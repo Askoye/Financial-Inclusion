{
  "nbformat": 4,
  "nbformat_minor": 0,
  "metadata": {
    "colab": {
      "name": "Python_Notebook_Solution_Moringa_Data_Science_Core_W2_Ted_Askoye_Independent_Project_2020_06",
      "provenance": [],
      "collapsed_sections": [],
      "authorship_tag": "ABX9TyM3StAqsav03NAh0q832ixw",
      "include_colab_link": true
    },
    "kernelspec": {
      "name": "python3",
      "display_name": "Python 3"
    }
  },
  "cells": [
    {
      "cell_type": "markdown",
      "metadata": {
        "id": "view-in-github",
        "colab_type": "text"
      },
      "source": [
        "<a href=\"https://colab.research.google.com/github/Askoye/IP-Core/blob/master/Python_Notebook_Solution_Moringa_Data_Science_Core_W2_Ted_Askoye_Independent_Project_2020_06.ipynb\" target=\"_parent\"><img src=\"https://colab.research.google.com/assets/colab-badge.svg\" alt=\"Open In Colab\"/></a>"
      ]
    },
    {
      "cell_type": "markdown",
      "metadata": {
        "id": "X5muRYpDsqiD",
        "colab_type": "text"
      },
      "source": [
        "Exploratory Data Analysis: Univariate Analysis\n",
        "1. Defining the Question\n",
        "\n",
        "a) Specifying the Data Analytic Question\n",
        "\n",
        "Finding out the state of Financial inclusion in Kenya, Rwanda, Tanzania and Uganda between 2016-2018\n",
        "\n"
      ]
    },
    {
      "cell_type": "markdown",
      "metadata": {
        "id": "SYA2dpJLuR2x",
        "colab_type": "text"
      },
      "source": [
        "b) Defining the Metric for Success\n",
        "\n",
        "1.   Which individuals have access to banking services\n",
        "2.   Finding out the number of banks within each region\n",
        "3.   Finding out the sex, age, level of education \n",
        "\n",
        "\n",
        "\n"
      ]
    },
    {
      "cell_type": "code",
      "metadata": {
        "id": "SwCD5YPmslAx",
        "colab_type": "code",
        "colab": {}
      },
      "source": [
        "import pandas as pd\n",
        "import numpy as np\n",
        "import matplotlib.pyplot as plt\n",
        "import seaborn as sns"
      ],
      "execution_count": 117,
      "outputs": []
    },
    {
      "cell_type": "markdown",
      "metadata": {
        "id": "qbVjDv6S0REy",
        "colab_type": "text"
      },
      "source": [
        "Dataset files :\n",
        "\n",
        "Variable Definitions: http://bit.ly/VariableDefinitions \n",
        "\n",
        "Dataset: http://bit.ly/FinancialDataset  "
      ]
    },
    {
      "cell_type": "code",
      "metadata": {
        "id": "w-XvdFtq0FJN",
        "colab_type": "code",
        "colab": {}
      },
      "source": [
        "dataset_df = pd.read_csv('http://bit.ly/FinancialDataset')\n",
        "var_def_df = pd.read_csv('http://bit.ly/VariableDefinitions')\n"
      ],
      "execution_count": 118,
      "outputs": []
    },
    {
      "cell_type": "markdown",
      "metadata": {
        "id": "UDfinbf01NsU",
        "colab_type": "text"
      },
      "source": [
        "Determining the number of records"
      ]
    },
    {
      "cell_type": "code",
      "metadata": {
        "id": "z0CiRsNV1NPT",
        "colab_type": "code",
        "colab": {
          "base_uri": "https://localhost:8080/",
          "height": 34
        },
        "outputId": "4beb03a1-6f27-464b-9eb2-1f2312b3b1da"
      },
      "source": [
        "dataset_df.shape\n",
        "print('This dataset has ' + str(dataset_df.shape[0]) + ' rows, and ' + str(dataset_df.shape[1]) + ' columns')"
      ],
      "execution_count": 119,
      "outputs": [
        {
          "output_type": "stream",
          "text": [
            "This dataset has 23524 rows, and 13 columns\n"
          ],
          "name": "stdout"
        }
      ]
    },
    {
      "cell_type": "code",
      "metadata": {
        "id": "uyCwU39K2Dj2",
        "colab_type": "code",
        "colab": {
          "base_uri": "https://localhost:8080/",
          "height": 34
        },
        "outputId": "18bda9a5-eebb-4647-ae08-ebabd506ae86"
      },
      "source": [
        "var_def_df.shape\n",
        "print('This dataset has ' + str(var_def_df.shape[0]) + ' rows, and ' + str(var_def_df.shape[1]) + ' columns')"
      ],
      "execution_count": 120,
      "outputs": [
        {
          "output_type": "stream",
          "text": [
            "This dataset has 12 rows, and 2 columns\n"
          ],
          "name": "stdout"
        }
      ]
    },
    {
      "cell_type": "markdown",
      "metadata": {
        "id": "AXHEk_nw2bxE",
        "colab_type": "text"
      },
      "source": [
        "Previewing our data"
      ]
    },
    {
      "cell_type": "code",
      "metadata": {
        "id": "mH547X5X2bXH",
        "colab_type": "code",
        "colab": {
          "base_uri": "https://localhost:8080/",
          "height": 765
        },
        "outputId": "6aae6f15-050a-408e-fae0-80597695a4dc"
      },
      "source": [
        "print(dataset_df)\n",
        "print('xxx'*30)\n",
        "print(var_def_df.head())\n",
        "print('xxx'*30)\n",
        "print(dataset_df.info())\n",
        "print('xxx'*30)\n"
      ],
      "execution_count": 121,
      "outputs": [
        {
          "output_type": "stream",
          "text": [
            "      country  year  ...              Level of Educuation                Type of Job\n",
            "0       Kenya  2018  ...              Secondary education              Self employed\n",
            "1       Kenya  2018  ...              No formal education       Government Dependent\n",
            "2       Kenya  2018  ...  Vocational/Specialised training              Self employed\n",
            "3       Kenya  2018  ...                Primary education  Formally employed Private\n",
            "4       Kenya  2018  ...                Primary education        Informally employed\n",
            "...       ...   ...  ...                              ...                        ...\n",
            "23519  Uganda  2018  ...              No formal education               Other Income\n",
            "23520  Uganda  2018  ...              Secondary education               Other Income\n",
            "23521  Uganda  2018  ...                Primary education               Other Income\n",
            "23522  Uganda  2018  ...              Secondary education              Self employed\n",
            "23523  Uganda  2018  ...              Secondary education                  No Income\n",
            "\n",
            "[23524 rows x 13 columns]\n",
            "xxxxxxxxxxxxxxxxxxxxxxxxxxxxxxxxxxxxxxxxxxxxxxxxxxxxxxxxxxxxxxxxxxxxxxxxxxxxxxxxxxxxxxxxxx\n",
            "  Variable Definitions                                         Unnamed: 1\n",
            "0              country                         Country interviewee is in.\n",
            "1                 year                           Year survey was done in.\n",
            "2             uniqueid             Unique identifier for each interviewee\n",
            "3        location_type                     Type of location: Rural, Urban\n",
            "4     cellphone_access  If interviewee has access to a cellphone: Yes, No\n",
            "xxxxxxxxxxxxxxxxxxxxxxxxxxxxxxxxxxxxxxxxxxxxxxxxxxxxxxxxxxxxxxxxxxxxxxxxxxxxxxxxxxxxxxxxxx\n",
            "<class 'pandas.core.frame.DataFrame'>\n",
            "RangeIndex: 23524 entries, 0 to 23523\n",
            "Data columns (total 13 columns):\n",
            " #   Column                  Non-Null Count  Dtype  \n",
            "---  ------                  --------------  -----  \n",
            " 0   country                 23510 non-null  object \n",
            " 1   year                    23524 non-null  int64  \n",
            " 2   uniqueid                23524 non-null  object \n",
            " 3   Has a Bank account      23488 non-null  object \n",
            " 4   Type of Location        23509 non-null  object \n",
            " 5   Cell Phone Access       23513 non-null  object \n",
            " 6   household_size          23496 non-null  float64\n",
            " 7   Respondent Age          23490 non-null  float64\n",
            " 8   gender_of_respondent    23490 non-null  object \n",
            " 9   The relathip with head  23520 non-null  object \n",
            " 10  marital_status          23492 non-null  object \n",
            " 11  Level of Educuation     23495 non-null  object \n",
            " 12  Type of Job             23494 non-null  object \n",
            "dtypes: float64(2), int64(1), object(10)\n",
            "memory usage: 2.3+ MB\n",
            "None\n",
            "xxxxxxxxxxxxxxxxxxxxxxxxxxxxxxxxxxxxxxxxxxxxxxxxxxxxxxxxxxxxxxxxxxxxxxxxxxxxxxxxxxxxxxxxxx\n"
          ],
          "name": "stdout"
        }
      ]
    },
    {
      "cell_type": "code",
      "metadata": {
        "id": "ZN01miNHAfOe",
        "colab_type": "code",
        "colab": {}
      },
      "source": [
        "# Converting Year to String\n",
        "dataset_df['year'] = dataset_df['year'].astype(str)\n"
      ],
      "execution_count": 122,
      "outputs": []
    },
    {
      "cell_type": "code",
      "metadata": {
        "id": "G2heSlo0BJf7",
        "colab_type": "code",
        "colab": {
          "base_uri": "https://localhost:8080/",
          "height": 374
        },
        "outputId": "136eb0b1-9cc2-4d62-88a8-b863f464dcb4"
      },
      "source": [
        "# Preview our data after conversion\n",
        "\n",
        "print(dataset_df.info())\n"
      ],
      "execution_count": 123,
      "outputs": [
        {
          "output_type": "stream",
          "text": [
            "<class 'pandas.core.frame.DataFrame'>\n",
            "RangeIndex: 23524 entries, 0 to 23523\n",
            "Data columns (total 13 columns):\n",
            " #   Column                  Non-Null Count  Dtype  \n",
            "---  ------                  --------------  -----  \n",
            " 0   country                 23510 non-null  object \n",
            " 1   year                    23524 non-null  object \n",
            " 2   uniqueid                23524 non-null  object \n",
            " 3   Has a Bank account      23488 non-null  object \n",
            " 4   Type of Location        23509 non-null  object \n",
            " 5   Cell Phone Access       23513 non-null  object \n",
            " 6   household_size          23496 non-null  float64\n",
            " 7   Respondent Age          23490 non-null  float64\n",
            " 8   gender_of_respondent    23490 non-null  object \n",
            " 9   The relathip with head  23520 non-null  object \n",
            " 10  marital_status          23492 non-null  object \n",
            " 11  Level of Educuation     23495 non-null  object \n",
            " 12  Type of Job             23494 non-null  object \n",
            "dtypes: float64(2), object(11)\n",
            "memory usage: 2.3+ MB\n",
            "None\n"
          ],
          "name": "stdout"
        }
      ]
    },
    {
      "cell_type": "code",
      "metadata": {
        "id": "4oEdvBzk3HMV",
        "colab_type": "code",
        "colab": {
          "base_uri": "https://localhost:8080/",
          "height": 170
        },
        "outputId": "b1e6fefd-848f-45a8-fa17-d7592e2c433a"
      },
      "source": [
        "print(dataset_df.describe())"
      ],
      "execution_count": 124,
      "outputs": [
        {
          "output_type": "stream",
          "text": [
            "       household_size  Respondent Age\n",
            "count    23496.000000    23490.000000\n",
            "mean         3.681818       38.804300\n",
            "std          2.279933       16.519996\n",
            "min          0.000000       16.000000\n",
            "25%          2.000000       26.000000\n",
            "50%          3.000000       35.000000\n",
            "75%          5.000000       49.000000\n",
            "max         21.000000      100.000000\n"
          ],
          "name": "stdout"
        }
      ]
    },
    {
      "cell_type": "markdown",
      "metadata": {
        "id": "PEhmcOYE7dQ4",
        "colab_type": "text"
      },
      "source": [
        "Validation\n"
      ]
    },
    {
      "cell_type": "code",
      "metadata": {
        "id": "CDACCO1v5iDc",
        "colab_type": "code",
        "colab": {
          "base_uri": "https://localhost:8080/",
          "height": 255
        },
        "outputId": "15c325e9-3d48-435a-a3d7-c837c1873626"
      },
      "source": [
        "year2016 = dataset_df['year'] == '2016'\n",
        "print(dataset_df[year2016])"
      ],
      "execution_count": 125,
      "outputs": [
        {
          "output_type": "stream",
          "text": [
            "      country  year  ...  Level of Educuation           Type of Job\n",
            "6068   Rwanda  2016  ...  Secondary education  Remittance Dependent\n",
            "6069   Rwanda  2016  ...  Secondary education         Self employed\n",
            "6070   Rwanda  2016  ...  No formal education   Farming and Fishing\n",
            "6071   Rwanda  2016  ...   Tertiary education   Informally employed\n",
            "6072   Rwanda  2016  ...    Primary education   Informally employed\n",
            "...       ...   ...  ...                  ...                   ...\n",
            "14798  Rwanda  2016  ...    Primary education   Farming and Fishing\n",
            "14799  Rwanda  2016  ...  No formal education  Remittance Dependent\n",
            "14800  Rwanda  2016  ...    Primary education   Farming and Fishing\n",
            "14801  Rwanda  2016  ...    Primary education   Informally employed\n",
            "14802  Rwanda  2016  ...  No formal education   Farming and Fishing\n",
            "\n",
            "[8734 rows x 13 columns]\n"
          ],
          "name": "stdout"
        }
      ]
    },
    {
      "cell_type": "markdown",
      "metadata": {
        "id": "JnrQ6Hxx8MUu",
        "colab_type": "text"
      },
      "source": [
        "Tidying up\n",
        "\n",
        "1. Checking for Outliers"
      ]
    },
    {
      "cell_type": "code",
      "metadata": {
        "id": "520bpaOB8kt_",
        "colab_type": "code",
        "colab": {
          "base_uri": "https://localhost:8080/",
          "height": 446
        },
        "outputId": "88bd689e-33c7-4da2-ee74-130831cc9aeb"
      },
      "source": [
        "dataset_df.boxplot(grid = False, figsize=(10, 7))"
      ],
      "execution_count": 126,
      "outputs": [
        {
          "output_type": "execute_result",
          "data": {
            "text/plain": [
              "<matplotlib.axes._subplots.AxesSubplot at 0x7f631d6f0710>"
            ]
          },
          "metadata": {
            "tags": []
          },
          "execution_count": 126
        },
        {
          "output_type": "display_data",
          "data": {
            "image/png": "[encoded data removed]",
            "text/plain": [
              "<Figure size 720x504 with 1 Axes>"
            ]
          },
          "metadata": {
            "tags": [],
            "needs_background": "light"
          }
        }
      ]
    },
    {
      "cell_type": "markdown",
      "metadata": {
        "id": "G9xsVrSx-izR",
        "colab_type": "text"
      },
      "source": [
        "Checking for Anomalies\n"
      ]
    },
    {
      "cell_type": "code",
      "metadata": {
        "id": "Jf1yH4yT-hja",
        "colab_type": "code",
        "colab": {
          "base_uri": "https://localhost:8080/",
          "height": 677
        },
        "outputId": "c13c46ce-c923-42e8-e610-ccd83a43ce2e"
      },
      "source": [
        "dataset_df"
      ],
      "execution_count": 127,
      "outputs": [
        {
          "output_type": "execute_result",
          "data": {
            "text/html": [
              "<div>\n",
              "<style scoped>\n",
              "    .dataframe tbody tr th:only-of-type {\n",
              "        vertical-align: middle;\n",
              "    }\n",
              "\n",
              "    .dataframe tbody tr th {\n",
              "        vertical-align: top;\n",
              "    }\n",
              "\n",
              "    .dataframe thead th {\n",
              "        text-align: right;\n",
              "    }\n",
              "</style>\n",
              "<table border=\"1\" class=\"dataframe\">\n",
              "  <thead>\n",
              "    <tr style=\"text-align: right;\">\n",
              "      <th></th>\n",
              "      <th>country</th>\n",
              "      <th>year</th>\n",
              "      <th>uniqueid</th>\n",
              "      <th>Has a Bank account</th>\n",
              "      <th>Type of Location</th>\n",
              "      <th>Cell Phone Access</th>\n",
              "      <th>household_size</th>\n",
              "      <th>Respondent Age</th>\n",
              "      <th>gender_of_respondent</th>\n",
              "      <th>The relathip with head</th>\n",
              "      <th>marital_status</th>\n",
              "      <th>Level of Educuation</th>\n",
              "      <th>Type of Job</th>\n",
              "    </tr>\n",
              "  </thead>\n",
              "  <tbody>\n",
              "    <tr>\n",
              "      <th>0</th>\n",
              "      <td>Kenya</td>\n",
              "      <td>2018</td>\n",
              "      <td>uniqueid_1</td>\n",
              "      <td>Yes</td>\n",
              "      <td>Rural</td>\n",
              "      <td>Yes</td>\n",
              "      <td>3.0</td>\n",
              "      <td>24.0</td>\n",
              "      <td>Female</td>\n",
              "      <td>Spouse</td>\n",
              "      <td>Married/Living together</td>\n",
              "      <td>Secondary education</td>\n",
              "      <td>Self employed</td>\n",
              "    </tr>\n",
              "    <tr>\n",
              "      <th>1</th>\n",
              "      <td>Kenya</td>\n",
              "      <td>2018</td>\n",
              "      <td>uniqueid_2</td>\n",
              "      <td>No</td>\n",
              "      <td>Rural</td>\n",
              "      <td>No</td>\n",
              "      <td>5.0</td>\n",
              "      <td>70.0</td>\n",
              "      <td>Female</td>\n",
              "      <td>Head of Household</td>\n",
              "      <td>Widowed</td>\n",
              "      <td>No formal education</td>\n",
              "      <td>Government Dependent</td>\n",
              "    </tr>\n",
              "    <tr>\n",
              "      <th>2</th>\n",
              "      <td>Kenya</td>\n",
              "      <td>2018</td>\n",
              "      <td>uniqueid_3</td>\n",
              "      <td>Yes</td>\n",
              "      <td>Urban</td>\n",
              "      <td>Yes</td>\n",
              "      <td>5.0</td>\n",
              "      <td>26.0</td>\n",
              "      <td>Male</td>\n",
              "      <td>Other relative</td>\n",
              "      <td>Single/Never Married</td>\n",
              "      <td>Vocational/Specialised training</td>\n",
              "      <td>Self employed</td>\n",
              "    </tr>\n",
              "    <tr>\n",
              "      <th>3</th>\n",
              "      <td>Kenya</td>\n",
              "      <td>2018</td>\n",
              "      <td>uniqueid_4</td>\n",
              "      <td>No</td>\n",
              "      <td>Rural</td>\n",
              "      <td>Yes</td>\n",
              "      <td>5.0</td>\n",
              "      <td>34.0</td>\n",
              "      <td>Female</td>\n",
              "      <td>Head of Household</td>\n",
              "      <td>Married/Living together</td>\n",
              "      <td>Primary education</td>\n",
              "      <td>Formally employed Private</td>\n",
              "    </tr>\n",
              "    <tr>\n",
              "      <th>4</th>\n",
              "      <td>Kenya</td>\n",
              "      <td>2018</td>\n",
              "      <td>uniqueid_5</td>\n",
              "      <td>No</td>\n",
              "      <td>Urban</td>\n",
              "      <td>No</td>\n",
              "      <td>8.0</td>\n",
              "      <td>26.0</td>\n",
              "      <td>Male</td>\n",
              "      <td>Child</td>\n",
              "      <td>Single/Never Married</td>\n",
              "      <td>Primary education</td>\n",
              "      <td>Informally employed</td>\n",
              "    </tr>\n",
              "    <tr>\n",
              "      <th>...</th>\n",
              "      <td>...</td>\n",
              "      <td>...</td>\n",
              "      <td>...</td>\n",
              "      <td>...</td>\n",
              "      <td>...</td>\n",
              "      <td>...</td>\n",
              "      <td>...</td>\n",
              "      <td>...</td>\n",
              "      <td>...</td>\n",
              "      <td>...</td>\n",
              "      <td>...</td>\n",
              "      <td>...</td>\n",
              "      <td>...</td>\n",
              "    </tr>\n",
              "    <tr>\n",
              "      <th>23519</th>\n",
              "      <td>Uganda</td>\n",
              "      <td>2018</td>\n",
              "      <td>uniqueid_2113</td>\n",
              "      <td>No</td>\n",
              "      <td>Rural</td>\n",
              "      <td>Yes</td>\n",
              "      <td>4.0</td>\n",
              "      <td>48.0</td>\n",
              "      <td>Female</td>\n",
              "      <td>Head of Household</td>\n",
              "      <td>Divorced/Seperated</td>\n",
              "      <td>No formal education</td>\n",
              "      <td>Other Income</td>\n",
              "    </tr>\n",
              "    <tr>\n",
              "      <th>23520</th>\n",
              "      <td>Uganda</td>\n",
              "      <td>2018</td>\n",
              "      <td>uniqueid_2114</td>\n",
              "      <td>No</td>\n",
              "      <td>Rural</td>\n",
              "      <td>Yes</td>\n",
              "      <td>2.0</td>\n",
              "      <td>27.0</td>\n",
              "      <td>Female</td>\n",
              "      <td>Head of Household</td>\n",
              "      <td>Single/Never Married</td>\n",
              "      <td>Secondary education</td>\n",
              "      <td>Other Income</td>\n",
              "    </tr>\n",
              "    <tr>\n",
              "      <th>23521</th>\n",
              "      <td>Uganda</td>\n",
              "      <td>2018</td>\n",
              "      <td>uniqueid_2115</td>\n",
              "      <td>No</td>\n",
              "      <td>Rural</td>\n",
              "      <td>Yes</td>\n",
              "      <td>5.0</td>\n",
              "      <td>27.0</td>\n",
              "      <td>Female</td>\n",
              "      <td>Parent</td>\n",
              "      <td>Widowed</td>\n",
              "      <td>Primary education</td>\n",
              "      <td>Other Income</td>\n",
              "    </tr>\n",
              "    <tr>\n",
              "      <th>23522</th>\n",
              "      <td>Uganda</td>\n",
              "      <td>2018</td>\n",
              "      <td>uniqueid_2116</td>\n",
              "      <td>No</td>\n",
              "      <td>Urban</td>\n",
              "      <td>Yes</td>\n",
              "      <td>7.0</td>\n",
              "      <td>30.0</td>\n",
              "      <td>Female</td>\n",
              "      <td>Parent</td>\n",
              "      <td>Divorced/Seperated</td>\n",
              "      <td>Secondary education</td>\n",
              "      <td>Self employed</td>\n",
              "    </tr>\n",
              "    <tr>\n",
              "      <th>23523</th>\n",
              "      <td>Uganda</td>\n",
              "      <td>2018</td>\n",
              "      <td>uniqueid_2117</td>\n",
              "      <td>No</td>\n",
              "      <td>Rural</td>\n",
              "      <td>Yes</td>\n",
              "      <td>10.0</td>\n",
              "      <td>20.0</td>\n",
              "      <td>Male</td>\n",
              "      <td>Child</td>\n",
              "      <td>Single/Never Married</td>\n",
              "      <td>Secondary education</td>\n",
              "      <td>No Income</td>\n",
              "    </tr>\n",
              "  </tbody>\n",
              "</table>\n",
              "<p>23524 rows × 13 columns</p>\n",
              "</div>"
            ],
            "text/plain": [
              "      country  year  ...              Level of Educuation                Type of Job\n",
              "0       Kenya  2018  ...              Secondary education              Self employed\n",
              "1       Kenya  2018  ...              No formal education       Government Dependent\n",
              "2       Kenya  2018  ...  Vocational/Specialised training              Self employed\n",
              "3       Kenya  2018  ...                Primary education  Formally employed Private\n",
              "4       Kenya  2018  ...                Primary education        Informally employed\n",
              "...       ...   ...  ...                              ...                        ...\n",
              "23519  Uganda  2018  ...              No formal education               Other Income\n",
              "23520  Uganda  2018  ...              Secondary education               Other Income\n",
              "23521  Uganda  2018  ...                Primary education               Other Income\n",
              "23522  Uganda  2018  ...              Secondary education              Self employed\n",
              "23523  Uganda  2018  ...              Secondary education                  No Income\n",
              "\n",
              "[23524 rows x 13 columns]"
            ]
          },
          "metadata": {
            "tags": []
          },
          "execution_count": 127
        }
      ]
    },
    {
      "cell_type": "markdown",
      "metadata": {
        "id": "Kst9ol9PB9pX",
        "colab_type": "text"
      },
      "source": [
        "Identifying missing data"
      ]
    },
    {
      "cell_type": "code",
      "metadata": {
        "id": "2c5OEs3BB1df",
        "colab_type": "code",
        "colab": {
          "base_uri": "https://localhost:8080/",
          "height": 255
        },
        "outputId": "fcb9c466-543e-43ae-b445-e7cfb930c20e"
      },
      "source": [
        "dataset_df.isnull().sum()"
      ],
      "execution_count": 128,
      "outputs": [
        {
          "output_type": "execute_result",
          "data": {
            "text/plain": [
              "country                   14\n",
              "year                       0\n",
              "uniqueid                   0\n",
              "Has a Bank account        36\n",
              "Type of Location          15\n",
              "Cell Phone Access         11\n",
              "household_size            28\n",
              "Respondent Age            34\n",
              "gender_of_respondent      34\n",
              "The relathip with head     4\n",
              "marital_status            32\n",
              "Level of Educuation       29\n",
              "Type of Job               30\n",
              "dtype: int64"
            ]
          },
          "metadata": {
            "tags": []
          },
          "execution_count": 128
        }
      ]
    },
    {
      "cell_type": "markdown",
      "metadata": {
        "id": "nfv-JzeECGSt",
        "colab_type": "text"
      },
      "source": [
        "We will not deal with the missing values of data as they represent information that is vital"
      ]
    },
    {
      "cell_type": "markdown",
      "metadata": {
        "id": "KJkJxG38Cdno",
        "colab_type": "text"
      },
      "source": [
        "More data cleaning procedures"
      ]
    },
    {
      "cell_type": "code",
      "metadata": {
        "id": "YDjrkSOUCS6e",
        "colab_type": "code",
        "colab": {
          "base_uri": "https://localhost:8080/",
          "height": 493
        },
        "outputId": "618c3a1a-9946-41f8-e964-f67064aebf04"
      },
      "source": [
        "Q1 = dataset_df.quantile(0.25)\n",
        "Q3 = dataset_df.quantile(0.75)\n",
        "IQR = Q3 - Q1\n",
        "dataset_df_out = dataset_df[~((dataset_df < (Q1 - 1.5 * IQR)) | (dataset_df > (Q3 + 1.5 * IQR))).any(axis=1)]\n",
        "print(dataset_df)\n",
        "print(dataset_df_out)"
      ],
      "execution_count": 129,
      "outputs": [
        {
          "output_type": "stream",
          "text": [
            "      country  year  ...              Level of Educuation                Type of Job\n",
            "0       Kenya  2018  ...              Secondary education              Self employed\n",
            "1       Kenya  2018  ...              No formal education       Government Dependent\n",
            "2       Kenya  2018  ...  Vocational/Specialised training              Self employed\n",
            "3       Kenya  2018  ...                Primary education  Formally employed Private\n",
            "4       Kenya  2018  ...                Primary education        Informally employed\n",
            "...       ...   ...  ...                              ...                        ...\n",
            "23519  Uganda  2018  ...              No formal education               Other Income\n",
            "23520  Uganda  2018  ...              Secondary education               Other Income\n",
            "23521  Uganda  2018  ...                Primary education               Other Income\n",
            "23522  Uganda  2018  ...              Secondary education              Self employed\n",
            "23523  Uganda  2018  ...              Secondary education                  No Income\n",
            "\n",
            "[23524 rows x 13 columns]\n",
            "      country  year  ...              Level of Educuation                Type of Job\n",
            "0       Kenya  2018  ...              Secondary education              Self employed\n",
            "1       Kenya  2018  ...              No formal education       Government Dependent\n",
            "2       Kenya  2018  ...  Vocational/Specialised training              Self employed\n",
            "3       Kenya  2018  ...                Primary education  Formally employed Private\n",
            "4       Kenya  2018  ...                Primary education        Informally employed\n",
            "...       ...   ...  ...                              ...                        ...\n",
            "23518  Uganda  2018  ...                Primary education                  No Income\n",
            "23519  Uganda  2018  ...              No formal education               Other Income\n",
            "23520  Uganda  2018  ...              Secondary education               Other Income\n",
            "23521  Uganda  2018  ...                Primary education               Other Income\n",
            "23522  Uganda  2018  ...              Secondary education              Self employed\n",
            "\n",
            "[22906 rows x 13 columns]\n"
          ],
          "name": "stdout"
        }
      ]
    },
    {
      "cell_type": "markdown",
      "metadata": {
        "id": "MTvQAI-CDx9V",
        "colab_type": "text"
      },
      "source": [
        "Ploting the univariate summaries and recording our observations"
      ]
    },
    {
      "cell_type": "code",
      "metadata": {
        "id": "3NwXBWkND1Ki",
        "colab_type": "code",
        "colab": {
          "base_uri": "https://localhost:8080/",
          "height": 357
        },
        "outputId": "46d0a245-bf20-46d8-a28e-e8fe120fcebf"
      },
      "source": [
        "print(\"Year 2016 - Year 2017\")\n",
        "print(dataset_df_out.describe())\n",
        "print(\"Year 2017 - Year 2018\")\n",
        "print(dataset_df.describe())"
      ],
      "execution_count": 130,
      "outputs": [
        {
          "output_type": "stream",
          "text": [
            "Year 2016 - Year 2017\n",
            "       household_size  Respondent Age\n",
            "count    22879.000000    22873.000000\n",
            "mean         3.573495       38.343549\n",
            "std          2.079714       15.803965\n",
            "min          0.000000       16.000000\n",
            "25%          2.000000       26.000000\n",
            "50%          3.000000       35.000000\n",
            "75%          5.000000       48.000000\n",
            "max          9.000000       83.000000\n",
            "Year 2017 - Year 2018\n",
            "       household_size  Respondent Age\n",
            "count    23496.000000    23490.000000\n",
            "mean         3.681818       38.804300\n",
            "std          2.279933       16.519996\n",
            "min          0.000000       16.000000\n",
            "25%          2.000000       26.000000\n",
            "50%          3.000000       35.000000\n",
            "75%          5.000000       49.000000\n",
            "max         21.000000      100.000000\n"
          ],
          "name": "stdout"
        }
      ]
    },
    {
      "cell_type": "markdown",
      "metadata": {
        "id": "HUfF51JdGX0J",
        "colab_type": "text"
      },
      "source": [
        "Ploting the bivariate summaries and recording our observations"
      ]
    },
    {
      "cell_type": "code",
      "metadata": {
        "id": "ZysRoJJ8KLv0",
        "colab_type": "code",
        "colab": {
          "base_uri": "https://localhost:8080/",
          "height": 567
        },
        "outputId": "71279e2d-7397-4330-afad-4a6d26037515"
      },
      "source": [
        "sns.pairplot(dataset_df)\n",
        "plt.show()"
      ],
      "execution_count": 131,
      "outputs": [
        {
          "output_type": "display_data",
          "data": {
            "image/png": "[encoded data removed]",
            "text/plain": [
              "<Figure size 540x540 with 12 Axes>"
            ]
          },
          "metadata": {
            "tags": [],
            "needs_background": "light"
          }
        }
      ]
    },
    {
      "cell_type": "markdown",
      "metadata": {
        "id": "qfCYUw1wMCm6",
        "colab_type": "text"
      },
      "source": [
        ""
      ]
    }
  ]
}