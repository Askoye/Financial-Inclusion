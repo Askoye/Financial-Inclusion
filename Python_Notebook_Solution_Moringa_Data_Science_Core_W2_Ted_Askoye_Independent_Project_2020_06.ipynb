{
  "nbformat": 4,
  "nbformat_minor": 0,
  "metadata": {
    "colab": {
      "name": "Python_Notebook_Solution_Moringa_Data_Science_Core_W2_Ted_Askoye_Independent_Project_2020_06",
      "provenance": [],
      "collapsed_sections": [],
      "authorship_tag": "ABX9TyMUcjPouUcMIjeZ/NPct952",
      "include_colab_link": true
    },
    "kernelspec": {
      "name": "python3",
      "display_name": "Python 3"
    }
  },
  "cells": [
    {
      "cell_type": "markdown",
      "metadata": {
        "id": "view-in-github",
        "colab_type": "text"
      },
      "source": [
        "<a href=\"https://colab.research.google.com/github/Askoye/IP-Core/blob/master/Python_Notebook_Solution_Moringa_Data_Science_Core_W2_Ted_Askoye_Independent_Project_2020_06.ipynb\" target=\"_parent\"><img src=\"https://colab.research.google.com/assets/colab-badge.svg\" alt=\"Open In Colab\"/></a>"
      ]
    },
    {
      "cell_type": "markdown",
      "metadata": {
        "id": "X5muRYpDsqiD",
        "colab_type": "text"
      },
      "source": [
        "Exploratory Data Analysis: Univariate Analysis\n",
        "1. Defining the Question\n",
        "\n",
        "a) Specifying the Data Analytic Question\n",
        "\n",
        "Finding out the state of Financial inclusion in Kenya, Rwanda, Tanzania and Uganda between 2016-2018\n",
        "\n"
      ]
    },
    {
      "cell_type": "markdown",
      "metadata": {
        "id": "SYA2dpJLuR2x",
        "colab_type": "text"
      },
      "source": [
        "b) Defining the Metric for Success\n",
        "\n",
        "1.   Which individuals have access to banking services\n",
        "2.   Finding out the number of banks within each region\n",
        "3.   Finding out the sex, age, level of education \n",
        "\n",
        "\n",
        "\n"
      ]
    },
    {
      "cell_type": "code",
      "metadata": {
        "id": "SwCD5YPmslAx",
        "colab_type": "code",
        "colab": {}
      },
      "source": [
        "import pandas as pd\n",
        "import numpy as np\n",
        "import matplotlib.pyplot as plt\n",
        "import seaborn as sns\n"
      ],
      "execution_count": null,
      "outputs": []
    },
    {
      "cell_type": "markdown",
      "metadata": {
        "id": "qbVjDv6S0REy",
        "colab_type": "text"
      },
      "source": [
        "Dataset files :\n",
        "\n",
        "Variable Definitions: http://bit.ly/VariableDefinitions \n",
        "\n",
        "Dataset: http://bit.ly/FinancialDataset  "
      ]
    },
    {
      "cell_type": "code",
      "metadata": {
        "id": "w-XvdFtq0FJN",
        "colab_type": "code",
        "colab": {}
      },
      "source": [
        "dataset_df = pd.read_csv('http://bit.ly/FinancialDataset')\n",
        "var_def_df = pd.read_csv('http://bit.ly/VariableDefinitions')\n"
      ],
      "execution_count": null,
      "outputs": []
    },
    {
      "cell_type": "markdown",
      "metadata": {
        "id": "UDfinbf01NsU",
        "colab_type": "text"
      },
      "source": [
        "Determining the number of records"
      ]
    },
    {
      "cell_type": "code",
      "metadata": {
        "id": "z0CiRsNV1NPT",
        "colab_type": "code",
        "colab": {
          "base_uri": "https://localhost:8080/",
          "height": 34
        },
        "outputId": "99749377-ca9d-49e4-e964-a9e9f0b3a2fc"
      },
      "source": [
        "dataset_df.shape\n",
        "print('This dataset has ' + str(dataset_df.shape[0]) + ' rows, and ' + str(dataset_df.shape[1]) + ' columns')"
      ],
      "execution_count": null,
      "outputs": [
        {
          "output_type": "stream",
          "text": [
            "This dataset has 23524 rows, and 13 columns\n"
          ],
          "name": "stdout"
        }
      ]
    },
    {
      "cell_type": "code",
      "metadata": {
        "id": "uyCwU39K2Dj2",
        "colab_type": "code",
        "colab": {
          "base_uri": "https://localhost:8080/",
          "height": 34
        },
        "outputId": "52c1ec37-b6e7-4b51-8d7b-001981e8a1b3"
      },
      "source": [
        "var_def_df.shape\n",
        "print('This dataset has ' + str(var_def_df.shape[0]) + ' rows, and ' + str(var_def_df.shape[1]) + ' columns')"
      ],
      "execution_count": null,
      "outputs": [
        {
          "output_type": "stream",
          "text": [
            "This dataset has 12 rows, and 2 columns\n"
          ],
          "name": "stdout"
        }
      ]
    },
    {
      "cell_type": "markdown",
      "metadata": {
        "id": "AXHEk_nw2bxE",
        "colab_type": "text"
      },
      "source": [
        "Previewing our data"
      ]
    },
    {
      "cell_type": "code",
      "metadata": {
        "id": "mH547X5X2bXH",
        "colab_type": "code",
        "colab": {
          "base_uri": "https://localhost:8080/",
          "height": 765
        },
        "outputId": "56ad1c99-b71d-4e56-9089-b9d0437a90d1"
      },
      "source": [
        "print(dataset_df)\n",
        "print('xxx'*30)\n",
        "print(var_def_df.head())\n",
        "print('xxx'*30)\n",
        "print(dataset_df.info())\n",
        "print('xxx'*30)\n"
      ],
      "execution_count": null,
      "outputs": [
        {
          "output_type": "stream",
          "text": [
            "      country  year  ...              Level of Educuation                Type of Job\n",
            "0       Kenya  2018  ...              Secondary education              Self employed\n",
            "1       Kenya  2018  ...              No formal education       Government Dependent\n",
            "2       Kenya  2018  ...  Vocational/Specialised training              Self employed\n",
            "3       Kenya  2018  ...                Primary education  Formally employed Private\n",
            "4       Kenya  2018  ...                Primary education        Informally employed\n",
            "...       ...   ...  ...                              ...                        ...\n",
            "23519  Uganda  2018  ...              No formal education               Other Income\n",
            "23520  Uganda  2018  ...              Secondary education               Other Income\n",
            "23521  Uganda  2018  ...                Primary education               Other Income\n",
            "23522  Uganda  2018  ...              Secondary education              Self employed\n",
            "23523  Uganda  2018  ...              Secondary education                  No Income\n",
            "\n",
            "[23524 rows x 13 columns]\n",
            "xxxxxxxxxxxxxxxxxxxxxxxxxxxxxxxxxxxxxxxxxxxxxxxxxxxxxxxxxxxxxxxxxxxxxxxxxxxxxxxxxxxxxxxxxx\n",
            "  Variable Definitions                                         Unnamed: 1\n",
            "0              country                         Country interviewee is in.\n",
            "1                 year                           Year survey was done in.\n",
            "2             uniqueid             Unique identifier for each interviewee\n",
            "3        location_type                     Type of location: Rural, Urban\n",
            "4     cellphone_access  If interviewee has access to a cellphone: Yes, No\n",
            "xxxxxxxxxxxxxxxxxxxxxxxxxxxxxxxxxxxxxxxxxxxxxxxxxxxxxxxxxxxxxxxxxxxxxxxxxxxxxxxxxxxxxxxxxx\n",
            "<class 'pandas.core.frame.DataFrame'>\n",
            "RangeIndex: 23524 entries, 0 to 23523\n",
            "Data columns (total 13 columns):\n",
            " #   Column                  Non-Null Count  Dtype  \n",
            "---  ------                  --------------  -----  \n",
            " 0   country                 23510 non-null  object \n",
            " 1   year                    23524 non-null  int64  \n",
            " 2   uniqueid                23524 non-null  object \n",
            " 3   Has a Bank account      23488 non-null  object \n",
            " 4   Type of Location        23509 non-null  object \n",
            " 5   Cell Phone Access       23513 non-null  object \n",
            " 6   household_size          23496 non-null  float64\n",
            " 7   Respondent Age          23490 non-null  float64\n",
            " 8   gender_of_respondent    23490 non-null  object \n",
            " 9   The relathip with head  23520 non-null  object \n",
            " 10  marital_status          23492 non-null  object \n",
            " 11  Level of Educuation     23495 non-null  object \n",
            " 12  Type of Job             23494 non-null  object \n",
            "dtypes: float64(2), int64(1), object(10)\n",
            "memory usage: 2.3+ MB\n",
            "None\n",
            "xxxxxxxxxxxxxxxxxxxxxxxxxxxxxxxxxxxxxxxxxxxxxxxxxxxxxxxxxxxxxxxxxxxxxxxxxxxxxxxxxxxxxxxxxx\n"
          ],
          "name": "stdout"
        }
      ]
    },
    {
      "cell_type": "markdown",
      "metadata": {
        "id": "4ko4sPevD_00",
        "colab_type": "text"
      },
      "source": [
        "Detect Outliers using Z-score and removing them"
      ]
    },
    {
      "cell_type": "code",
      "metadata": {
        "id": "BF785qnpJHid",
        "colab_type": "code",
        "colab": {}
      },
      "source": [
        "from scipy import stats\n",
        "import numpy as np\n",
        "z = np.abs(stats.zscore(dataset_df['year']))"
      ],
      "execution_count": null,
      "outputs": []
    },
    {
      "cell_type": "code",
      "metadata": {
        "id": "WsHDTaUMCfMu",
        "colab_type": "code",
        "colab": {
          "base_uri": "https://localhost:8080/",
          "height": 34
        },
        "outputId": "6f1b74c9-c43a-4693-894e-f9db1c675420"
      },
      "source": [
        "outliers=[]\n",
        "\n",
        "def detect_outlier(data_1):\n",
        "    \n",
        "    threshold=3\n",
        "    mean_1 = np.mean(data_1)\n",
        "    std_1 =np.std(data_1)\n",
        "    \n",
        "    for y in data_1:\n",
        "        z_score= (y - mean_1)/std_1 \n",
        "        if np.abs(z_score) > threshold:\n",
        "            outliers.append(y)\n",
        "    return outliers\n",
        "\n",
        "detect_outlier(dataset_df['year'])\n"
      ],
      "execution_count": null,
      "outputs": [
        {
          "output_type": "execute_result",
          "data": {
            "text/plain": [
              "[2029, 2056, 2039]"
            ]
          },
          "metadata": {
            "tags": []
          },
          "execution_count": 423
        }
      ]
    },
    {
      "cell_type": "markdown",
      "metadata": {
        "id": "tBgbPA9EKyaR",
        "colab_type": "text"
      },
      "source": [
        "Dropping Outliers and Checking on whether the changes are effected"
      ]
    },
    {
      "cell_type": "code",
      "metadata": {
        "id": "B1VIJZmxPZ7n",
        "colab_type": "code",
        "colab": {}
      },
      "source": [
        "dataset_df_out = dataset_df.drop(outliers)"
      ],
      "execution_count": null,
      "outputs": []
    },
    {
      "cell_type": "code",
      "metadata": {
        "id": "Q389RK8IKs8W",
        "colab_type": "code",
        "colab": {
          "base_uri": "https://localhost:8080/",
          "height": 68
        },
        "outputId": "c5a8c65e-7f56-439c-896c-1f3075e5712c"
      },
      "source": [
        "dataset_df_out.shape\n",
        "print('The new dataset has ' + str(dataset_df_out.shape[0]) + ' rows, and ' + str(dataset_df_out.shape[1]) + ' columns')\n",
        "print('xxx'*30)\n",
        "dataset_df.shape\n",
        "print('The old dataset has ' + str(dataset_df.shape[0]) + ' rows, and ' + str(dataset_df.shape[1]) + ' columns')"
      ],
      "execution_count": null,
      "outputs": [
        {
          "output_type": "stream",
          "text": [
            "The new dataset has 23521 rows, and 13 columns\n",
            "xxxxxxxxxxxxxxxxxxxxxxxxxxxxxxxxxxxxxxxxxxxxxxxxxxxxxxxxxxxxxxxxxxxxxxxxxxxxxxxxxxxxxxxxxx\n",
            "The old dataset has 23524 rows, and 13 columns\n"
          ],
          "name": "stdout"
        }
      ]
    },
    {
      "cell_type": "code",
      "metadata": {
        "id": "ZN01miNHAfOe",
        "colab_type": "code",
        "colab": {}
      },
      "source": [
        "# Converting Year to String\n",
        "#dataset_df_out['year'] = dataset_df_out['year'].astype(str)\n"
      ],
      "execution_count": null,
      "outputs": []
    },
    {
      "cell_type": "markdown",
      "metadata": {
        "id": "HqoDJW6YaB6e",
        "colab_type": "text"
      },
      "source": [
        "Renamaing the columns\n"
      ]
    },
    {
      "cell_type": "code",
      "metadata": {
        "id": "qmB4r0NyaBmr",
        "colab_type": "code",
        "colab": {
          "base_uri": "https://localhost:8080/",
          "height": 85
        },
        "outputId": "458f521e-0ee6-47f7-fef5-b541a953c849"
      },
      "source": [
        "dataset_df_out.columns = map(str.lower, dataset_df.columns)\n",
        "columns = ['country', 'year', 'unique_id', 'bank_acc_access', 'location_type','cell_access', \n",
        "           'household_size', 'age', 'gender', 'family_role','marital_status','education_level','job_status']\n",
        "dataset_df_out.columns = columns\n",
        "dataset_df_out.columns"
      ],
      "execution_count": null,
      "outputs": [
        {
          "output_type": "execute_result",
          "data": {
            "text/plain": [
              "Index(['country', 'year', 'unique_id', 'bank_acc_access', 'location_type',\n",
              "       'cell_access', 'household_size', 'age', 'gender', 'family_role',\n",
              "       'marital_status', 'education_level', 'job_status'],\n",
              "      dtype='object')"
            ]
          },
          "metadata": {
            "tags": []
          },
          "execution_count": 427
        }
      ]
    },
    {
      "cell_type": "code",
      "metadata": {
        "id": "G2heSlo0BJf7",
        "colab_type": "code",
        "colab": {
          "base_uri": "https://localhost:8080/",
          "height": 374
        },
        "outputId": "417182b5-c2e5-490c-fd8c-dc04f5574c21"
      },
      "source": [
        "# Preview our data after conversion\n",
        "\n",
        "print(dataset_df_out.info())\n"
      ],
      "execution_count": null,
      "outputs": [
        {
          "output_type": "stream",
          "text": [
            "<class 'pandas.core.frame.DataFrame'>\n",
            "Int64Index: 23521 entries, 0 to 23523\n",
            "Data columns (total 13 columns):\n",
            " #   Column           Non-Null Count  Dtype  \n",
            "---  ------           --------------  -----  \n",
            " 0   country          23507 non-null  object \n",
            " 1   year             23521 non-null  int64  \n",
            " 2   unique_id        23521 non-null  object \n",
            " 3   bank_acc_access  23485 non-null  object \n",
            " 4   location_type    23506 non-null  object \n",
            " 5   cell_access      23510 non-null  object \n",
            " 6   household_size   23493 non-null  float64\n",
            " 7   age              23487 non-null  float64\n",
            " 8   gender           23487 non-null  object \n",
            " 9   family_role      23517 non-null  object \n",
            " 10  marital_status   23489 non-null  object \n",
            " 11  education_level  23492 non-null  object \n",
            " 12  job_status       23491 non-null  object \n",
            "dtypes: float64(2), int64(1), object(10)\n",
            "memory usage: 2.5+ MB\n",
            "None\n"
          ],
          "name": "stdout"
        }
      ]
    },
    {
      "cell_type": "code",
      "metadata": {
        "id": "4oEdvBzk3HMV",
        "colab_type": "code",
        "colab": {
          "base_uri": "https://localhost:8080/",
          "height": 170
        },
        "outputId": "2f97fb26-aead-4436-e527-2244290ad6fe"
      },
      "source": [
        "print(dataset_df_out.describe())"
      ],
      "execution_count": null,
      "outputs": [
        {
          "output_type": "stream",
          "text": [
            "               year  household_size           age\n",
            "count  23521.000000    23493.000000  23487.000000\n",
            "mean    2016.978870        3.681905     38.804743\n",
            "std        0.899653        2.280010     16.518939\n",
            "min     2016.000000        0.000000     16.000000\n",
            "25%     2016.000000        2.000000     26.000000\n",
            "50%     2017.000000        3.000000     35.000000\n",
            "75%     2018.000000        5.000000     49.000000\n",
            "max     2056.000000       21.000000    100.000000\n"
          ],
          "name": "stdout"
        }
      ]
    },
    {
      "cell_type": "markdown",
      "metadata": {
        "id": "PEhmcOYE7dQ4",
        "colab_type": "text"
      },
      "source": [
        "Validation\n"
      ]
    },
    {
      "cell_type": "code",
      "metadata": {
        "id": "CDACCO1v5iDc",
        "colab_type": "code",
        "colab": {
          "base_uri": "https://localhost:8080/",
          "height": 255
        },
        "outputId": "a09268a6-526b-41ff-a5b1-b8bc7c87a602"
      },
      "source": [
        "year2016 = dataset_df_out['year'] == 2016\n",
        "print(dataset_df_out[year2016])"
      ],
      "execution_count": null,
      "outputs": [
        {
          "output_type": "stream",
          "text": [
            "      country  year  ...  Level of Educuation           Type of Job\n",
            "6068   Rwanda  2016  ...  Secondary education  Remittance Dependent\n",
            "6069   Rwanda  2016  ...  Secondary education         Self employed\n",
            "6070   Rwanda  2016  ...  No formal education   Farming and Fishing\n",
            "6071   Rwanda  2016  ...   Tertiary education   Informally employed\n",
            "6072   Rwanda  2016  ...    Primary education   Informally employed\n",
            "...       ...   ...  ...                  ...                   ...\n",
            "14798  Rwanda  2016  ...    Primary education   Farming and Fishing\n",
            "14799  Rwanda  2016  ...  No formal education  Remittance Dependent\n",
            "14800  Rwanda  2016  ...    Primary education   Farming and Fishing\n",
            "14801  Rwanda  2016  ...    Primary education   Informally employed\n",
            "14802  Rwanda  2016  ...  No formal education   Farming and Fishing\n",
            "\n",
            "[8641 rows x 13 columns]\n"
          ],
          "name": "stdout"
        }
      ]
    },
    {
      "cell_type": "markdown",
      "metadata": {
        "id": "JnrQ6Hxx8MUu",
        "colab_type": "text"
      },
      "source": [
        "Tidying up\n",
        "\n",
        "1. Checking for Outliers"
      ]
    },
    {
      "cell_type": "code",
      "metadata": {
        "id": "520bpaOB8kt_",
        "colab_type": "code",
        "colab": {
          "base_uri": "https://localhost:8080/",
          "height": 446
        },
        "outputId": "afb11b2a-2e0b-404a-9c10-3e0f007ffb73"
      },
      "source": [
        "dataset_df_out.boxplot(grid = False, figsize=(10, 7))"
      ],
      "execution_count": null,
      "outputs": [
        {
          "output_type": "execute_result",
          "data": {
            "text/plain": [
              "<matplotlib.axes._subplots.AxesSubplot at 0x7f3ec8700668>"
            ]
          },
          "metadata": {
            "tags": []
          },
          "execution_count": 431
        },
        {
          "output_type": "display_data",
          "data": {
            "image/png": "[encoded data removed]",
            "text/plain": [
              "<Figure size 720x504 with 1 Axes>"
            ]
          },
          "metadata": {
            "tags": [],
            "needs_background": "light"
          }
        }
      ]
    },
    {
      "cell_type": "markdown",
      "metadata": {
        "id": "G9xsVrSx-izR",
        "colab_type": "text"
      },
      "source": [
        "Checking for Anomalies\n"
      ]
    },
    {
      "cell_type": "code",
      "metadata": {
        "id": "Jf1yH4yT-hja",
        "colab_type": "code",
        "colab": {
          "base_uri": "https://localhost:8080/",
          "height": 609
        },
        "outputId": "8afbf391-a8cb-4b13-912a-786307d46d46"
      },
      "source": [
        "dataset_df_out"
      ],
      "execution_count": null,
      "outputs": [
        {
          "output_type": "execute_result",
          "data": {
            "text/html": [
              "<div>\n",
              "<style scoped>\n",
              "    .dataframe tbody tr th:only-of-type {\n",
              "        vertical-align: middle;\n",
              "    }\n",
              "\n",
              "    .dataframe tbody tr th {\n",
              "        vertical-align: top;\n",
              "    }\n",
              "\n",
              "    .dataframe thead th {\n",
              "        text-align: right;\n",
              "    }\n",
              "</style>\n",
              "<table border=\"1\" class=\"dataframe\">\n",
              "  <thead>\n",
              "    <tr style=\"text-align: right;\">\n",
              "      <th></th>\n",
              "      <th>country</th>\n",
              "      <th>year</th>\n",
              "      <th>unique_id</th>\n",
              "      <th>bank_acc_access</th>\n",
              "      <th>location_type</th>\n",
              "      <th>cell_access</th>\n",
              "      <th>household_size</th>\n",
              "      <th>age</th>\n",
              "      <th>gender</th>\n",
              "      <th>family_role</th>\n",
              "      <th>marital_status</th>\n",
              "      <th>education_level</th>\n",
              "      <th>job_status</th>\n",
              "    </tr>\n",
              "  </thead>\n",
              "  <tbody>\n",
              "    <tr>\n",
              "      <th>0</th>\n",
              "      <td>Kenya</td>\n",
              "      <td>2018</td>\n",
              "      <td>uniqueid_1</td>\n",
              "      <td>Yes</td>\n",
              "      <td>Rural</td>\n",
              "      <td>Yes</td>\n",
              "      <td>3.0</td>\n",
              "      <td>24.0</td>\n",
              "      <td>Female</td>\n",
              "      <td>Spouse</td>\n",
              "      <td>Married/Living together</td>\n",
              "      <td>Secondary education</td>\n",
              "      <td>Self employed</td>\n",
              "    </tr>\n",
              "    <tr>\n",
              "      <th>1</th>\n",
              "      <td>Kenya</td>\n",
              "      <td>2018</td>\n",
              "      <td>uniqueid_2</td>\n",
              "      <td>No</td>\n",
              "      <td>Rural</td>\n",
              "      <td>No</td>\n",
              "      <td>5.0</td>\n",
              "      <td>70.0</td>\n",
              "      <td>Female</td>\n",
              "      <td>Head of Household</td>\n",
              "      <td>Widowed</td>\n",
              "      <td>No formal education</td>\n",
              "      <td>Government Dependent</td>\n",
              "    </tr>\n",
              "    <tr>\n",
              "      <th>2</th>\n",
              "      <td>Kenya</td>\n",
              "      <td>2018</td>\n",
              "      <td>uniqueid_3</td>\n",
              "      <td>Yes</td>\n",
              "      <td>Urban</td>\n",
              "      <td>Yes</td>\n",
              "      <td>5.0</td>\n",
              "      <td>26.0</td>\n",
              "      <td>Male</td>\n",
              "      <td>Other relative</td>\n",
              "      <td>Single/Never Married</td>\n",
              "      <td>Vocational/Specialised training</td>\n",
              "      <td>Self employed</td>\n",
              "    </tr>\n",
              "    <tr>\n",
              "      <th>3</th>\n",
              "      <td>Kenya</td>\n",
              "      <td>2018</td>\n",
              "      <td>uniqueid_4</td>\n",
              "      <td>No</td>\n",
              "      <td>Rural</td>\n",
              "      <td>Yes</td>\n",
              "      <td>5.0</td>\n",
              "      <td>34.0</td>\n",
              "      <td>Female</td>\n",
              "      <td>Head of Household</td>\n",
              "      <td>Married/Living together</td>\n",
              "      <td>Primary education</td>\n",
              "      <td>Formally employed Private</td>\n",
              "    </tr>\n",
              "    <tr>\n",
              "      <th>4</th>\n",
              "      <td>Kenya</td>\n",
              "      <td>2018</td>\n",
              "      <td>uniqueid_5</td>\n",
              "      <td>No</td>\n",
              "      <td>Urban</td>\n",
              "      <td>No</td>\n",
              "      <td>8.0</td>\n",
              "      <td>26.0</td>\n",
              "      <td>Male</td>\n",
              "      <td>Child</td>\n",
              "      <td>Single/Never Married</td>\n",
              "      <td>Primary education</td>\n",
              "      <td>Informally employed</td>\n",
              "    </tr>\n",
              "    <tr>\n",
              "      <th>...</th>\n",
              "      <td>...</td>\n",
              "      <td>...</td>\n",
              "      <td>...</td>\n",
              "      <td>...</td>\n",
              "      <td>...</td>\n",
              "      <td>...</td>\n",
              "      <td>...</td>\n",
              "      <td>...</td>\n",
              "      <td>...</td>\n",
              "      <td>...</td>\n",
              "      <td>...</td>\n",
              "      <td>...</td>\n",
              "      <td>...</td>\n",
              "    </tr>\n",
              "    <tr>\n",
              "      <th>23519</th>\n",
              "      <td>Uganda</td>\n",
              "      <td>2018</td>\n",
              "      <td>uniqueid_2113</td>\n",
              "      <td>No</td>\n",
              "      <td>Rural</td>\n",
              "      <td>Yes</td>\n",
              "      <td>4.0</td>\n",
              "      <td>48.0</td>\n",
              "      <td>Female</td>\n",
              "      <td>Head of Household</td>\n",
              "      <td>Divorced/Seperated</td>\n",
              "      <td>No formal education</td>\n",
              "      <td>Other Income</td>\n",
              "    </tr>\n",
              "    <tr>\n",
              "      <th>23520</th>\n",
              "      <td>Uganda</td>\n",
              "      <td>2018</td>\n",
              "      <td>uniqueid_2114</td>\n",
              "      <td>No</td>\n",
              "      <td>Rural</td>\n",
              "      <td>Yes</td>\n",
              "      <td>2.0</td>\n",
              "      <td>27.0</td>\n",
              "      <td>Female</td>\n",
              "      <td>Head of Household</td>\n",
              "      <td>Single/Never Married</td>\n",
              "      <td>Secondary education</td>\n",
              "      <td>Other Income</td>\n",
              "    </tr>\n",
              "    <tr>\n",
              "      <th>23521</th>\n",
              "      <td>Uganda</td>\n",
              "      <td>2018</td>\n",
              "      <td>uniqueid_2115</td>\n",
              "      <td>No</td>\n",
              "      <td>Rural</td>\n",
              "      <td>Yes</td>\n",
              "      <td>5.0</td>\n",
              "      <td>27.0</td>\n",
              "      <td>Female</td>\n",
              "      <td>Parent</td>\n",
              "      <td>Widowed</td>\n",
              "      <td>Primary education</td>\n",
              "      <td>Other Income</td>\n",
              "    </tr>\n",
              "    <tr>\n",
              "      <th>23522</th>\n",
              "      <td>Uganda</td>\n",
              "      <td>2018</td>\n",
              "      <td>uniqueid_2116</td>\n",
              "      <td>No</td>\n",
              "      <td>Urban</td>\n",
              "      <td>Yes</td>\n",
              "      <td>7.0</td>\n",
              "      <td>30.0</td>\n",
              "      <td>Female</td>\n",
              "      <td>Parent</td>\n",
              "      <td>Divorced/Seperated</td>\n",
              "      <td>Secondary education</td>\n",
              "      <td>Self employed</td>\n",
              "    </tr>\n",
              "    <tr>\n",
              "      <th>23523</th>\n",
              "      <td>Uganda</td>\n",
              "      <td>2018</td>\n",
              "      <td>uniqueid_2117</td>\n",
              "      <td>No</td>\n",
              "      <td>Rural</td>\n",
              "      <td>Yes</td>\n",
              "      <td>10.0</td>\n",
              "      <td>20.0</td>\n",
              "      <td>Male</td>\n",
              "      <td>Child</td>\n",
              "      <td>Single/Never Married</td>\n",
              "      <td>Secondary education</td>\n",
              "      <td>No Income</td>\n",
              "    </tr>\n",
              "  </tbody>\n",
              "</table>\n",
              "<p>23521 rows × 13 columns</p>\n",
              "</div>"
            ],
            "text/plain": [
              "      country  year  ...                  education_level                 job_status\n",
              "0       Kenya  2018  ...              Secondary education              Self employed\n",
              "1       Kenya  2018  ...              No formal education       Government Dependent\n",
              "2       Kenya  2018  ...  Vocational/Specialised training              Self employed\n",
              "3       Kenya  2018  ...                Primary education  Formally employed Private\n",
              "4       Kenya  2018  ...                Primary education        Informally employed\n",
              "...       ...   ...  ...                              ...                        ...\n",
              "23519  Uganda  2018  ...              No formal education               Other Income\n",
              "23520  Uganda  2018  ...              Secondary education               Other Income\n",
              "23521  Uganda  2018  ...                Primary education               Other Income\n",
              "23522  Uganda  2018  ...              Secondary education              Self employed\n",
              "23523  Uganda  2018  ...              Secondary education                  No Income\n",
              "\n",
              "[23521 rows x 13 columns]"
            ]
          },
          "metadata": {
            "tags": []
          },
          "execution_count": 432
        }
      ]
    },
    {
      "cell_type": "markdown",
      "metadata": {
        "id": "Kst9ol9PB9pX",
        "colab_type": "text"
      },
      "source": [
        "Identifying missing data"
      ]
    },
    {
      "cell_type": "code",
      "metadata": {
        "id": "AycJQTd6fHsT",
        "colab_type": "code",
        "colab": {
          "base_uri": "https://localhost:8080/",
          "height": 255
        },
        "outputId": "3fb13ca0-5e5d-4533-e2aa-5703ec38418d"
      },
      "source": [
        "dataset_df_out.isnull().sum()"
      ],
      "execution_count": null,
      "outputs": [
        {
          "output_type": "execute_result",
          "data": {
            "text/plain": [
              "country            14\n",
              "year                0\n",
              "unique_id           0\n",
              "bank_acc_access    36\n",
              "location_type      15\n",
              "cell_access        11\n",
              "household_size     28\n",
              "age                34\n",
              "gender             34\n",
              "family_role         4\n",
              "marital_status     32\n",
              "education_level    29\n",
              "job_status         30\n",
              "dtype: int64"
            ]
          },
          "metadata": {
            "tags": []
          },
          "execution_count": 433
        }
      ]
    },
    {
      "cell_type": "markdown",
      "metadata": {
        "id": "nfv-JzeECGSt",
        "colab_type": "text"
      },
      "source": [
        "We will not deal with the missing values of data as they represent information that is vital"
      ]
    },
    {
      "cell_type": "markdown",
      "metadata": {
        "id": "KJkJxG38Cdno",
        "colab_type": "text"
      },
      "source": [
        "More data cleaning procedures"
      ]
    },
    {
      "cell_type": "code",
      "metadata": {
        "id": "YDjrkSOUCS6e",
        "colab_type": "code",
        "colab": {
          "base_uri": "https://localhost:8080/",
          "height": 510
        },
        "outputId": "e1b8459d-2108-46c3-c056-05c97ff753da"
      },
      "source": [
        "\n",
        "Q1 = dataset_df_out.quantile(0.25)\n",
        "Q3 = dataset_df_out.quantile(0.75)\n",
        "IQR = Q3 - Q1\n",
        "dataset_df_out = dataset_df[~((dataset_df < (Q1 - 1.5 * IQR)) | (dataset_df > (Q3 + 1.5 * IQR))).any(axis=1)]\n",
        "print(dataset_df)\n",
        "print('xxx'*30)\n",
        "print(dataset_df_out)"
      ],
      "execution_count": null,
      "outputs": [
        {
          "output_type": "stream",
          "text": [
            "      country  year  ...              Level of Educuation                Type of Job\n",
            "0       Kenya  2018  ...              Secondary education              Self employed\n",
            "1       Kenya  2018  ...              No formal education       Government Dependent\n",
            "2       Kenya  2018  ...  Vocational/Specialised training              Self employed\n",
            "3       Kenya  2018  ...                Primary education  Formally employed Private\n",
            "4       Kenya  2018  ...                Primary education        Informally employed\n",
            "...       ...   ...  ...                              ...                        ...\n",
            "23519  Uganda  2018  ...              No formal education               Other Income\n",
            "23520  Uganda  2018  ...              Secondary education               Other Income\n",
            "23521  Uganda  2018  ...                Primary education               Other Income\n",
            "23522  Uganda  2018  ...              Secondary education              Self employed\n",
            "23523  Uganda  2018  ...              Secondary education                  No Income\n",
            "\n",
            "[23524 rows x 13 columns]\n",
            "xxxxxxxxxxxxxxxxxxxxxxxxxxxxxxxxxxxxxxxxxxxxxxxxxxxxxxxxxxxxxxxxxxxxxxxxxxxxxxxxxxxxxxxxxx\n",
            "      country  year  ...              Level of Educuation                Type of Job\n",
            "0       Kenya  2018  ...              Secondary education              Self employed\n",
            "1       Kenya  2018  ...              No formal education       Government Dependent\n",
            "2       Kenya  2018  ...  Vocational/Specialised training              Self employed\n",
            "3       Kenya  2018  ...                Primary education  Formally employed Private\n",
            "4       Kenya  2018  ...                Primary education        Informally employed\n",
            "...       ...   ...  ...                              ...                        ...\n",
            "23518  Uganda  2018  ...                Primary education                  No Income\n",
            "23519  Uganda  2018  ...              No formal education               Other Income\n",
            "23520  Uganda  2018  ...              Secondary education               Other Income\n",
            "23521  Uganda  2018  ...                Primary education               Other Income\n",
            "23522  Uganda  2018  ...              Secondary education              Self employed\n",
            "\n",
            "[23144 rows x 13 columns]\n"
          ],
          "name": "stdout"
        }
      ]
    },
    {
      "cell_type": "markdown",
      "metadata": {
        "id": "MTvQAI-CDx9V",
        "colab_type": "text"
      },
      "source": [
        "Ploting the univariate summaries and recording our observations"
      ]
    },
    {
      "cell_type": "code",
      "metadata": {
        "id": "3NwXBWkND1Ki",
        "colab_type": "code",
        "colab": {
          "base_uri": "https://localhost:8080/",
          "height": 357
        },
        "outputId": "0cf9b14e-4f40-4391-8f10-5b03a5ac9d78"
      },
      "source": [
        "print(\"Year 2016 - Year 2017\")\n",
        "print(dataset_df_out.describe())\n",
        "print(\"Year 2017 - Year 2018\")\n",
        "print(dataset_df_out.describe())"
      ],
      "execution_count": null,
      "outputs": [
        {
          "output_type": "stream",
          "text": [
            "Year 2016 - Year 2017\n",
            "               year  household_size  Respondent Age\n",
            "count  23144.000000    23116.000000    23111.000000\n",
            "mean    2016.967594        3.560348       38.869889\n",
            "std        0.844566        2.079148       16.537229\n",
            "min     2016.000000        0.000000       16.000000\n",
            "25%     2016.000000        2.000000       26.000000\n",
            "50%     2017.000000        3.000000       35.000000\n",
            "75%     2018.000000        5.000000       49.000000\n",
            "max     2018.000000        9.000000      100.000000\n",
            "Year 2017 - Year 2018\n",
            "               year  household_size  Respondent Age\n",
            "count  23144.000000    23116.000000    23111.000000\n",
            "mean    2016.967594        3.560348       38.869889\n",
            "std        0.844566        2.079148       16.537229\n",
            "min     2016.000000        0.000000       16.000000\n",
            "25%     2016.000000        2.000000       26.000000\n",
            "50%     2017.000000        3.000000       35.000000\n",
            "75%     2018.000000        5.000000       49.000000\n",
            "max     2018.000000        9.000000      100.000000\n"
          ],
          "name": "stdout"
        }
      ]
    },
    {
      "cell_type": "markdown",
      "metadata": {
        "id": "HUfF51JdGX0J",
        "colab_type": "text"
      },
      "source": [
        "Ploting the bivariate summaries and recording our observations"
      ]
    },
    {
      "cell_type": "code",
      "metadata": {
        "id": "ZysRoJJ8KLv0",
        "colab_type": "code",
        "colab": {
          "base_uri": "https://localhost:8080/",
          "height": 567
        },
        "outputId": "12db01be-24ce-4692-bab9-9e013ac79a9e"
      },
      "source": [
        "sns.pairplot(dataset_df_out)\n",
        "plt.show()"
      ],
      "execution_count": null,
      "outputs": [
        {
          "output_type": "display_data",
          "data": {
            "image/png": "[encoded data removed]",
            "text/plain": [
              "<Figure size 540x540 with 12 Axes>"
            ]
          },
          "metadata": {
            "tags": [],
            "needs_background": "light"
          }
        }
      ]
    },
    {
      "cell_type": "markdown",
      "metadata": {
        "id": "qfCYUw1wMCm6",
        "colab_type": "text"
      },
      "source": [
        ""
      ]
    },
    {
      "cell_type": "code",
      "metadata": {
        "id": "mlWJfb5kBqz-",
        "colab_type": "code",
        "colab": {
          "base_uri": "https://localhost:8080/",
          "height": 433
        },
        "outputId": "b6668e20-7fe0-4b14-f5da-b32f0431c427"
      },
      "source": [
        "plt.figure(figsize = (16,7))\n",
        "sns.heatmap(dataset_df_out.corr(),annot=True)\n",
        "plt.show()\n"
      ],
      "execution_count": null,
      "outputs": [
        {
          "output_type": "display_data",
          "data": {
            "image/png": "[encoded data removed]",
            "text/plain": [
              "<Figure size 1152x504 with 2 Axes>"
            ]
          },
          "metadata": {
            "tags": [],
            "needs_background": "light"
          }
        }
      ]
    },
    {
      "cell_type": "code",
      "metadata": {
        "id": "Rh2rhkq1WN0s",
        "colab_type": "code",
        "colab": {
          "base_uri": "https://localhost:8080/",
          "height": 34
        },
        "outputId": "ea5b77ee-3b46-494c-843b-5828e0846951"
      },
      "source": [
        "dataset_df[\"year\"].corr(dataset_df[\"household_size\"]) "
      ],
      "execution_count": null,
      "outputs": [
        {
          "output_type": "execute_result",
          "data": {
            "text/plain": [
              "-0.04934365032853075"
            ]
          },
          "metadata": {
            "tags": []
          },
          "execution_count": 438
        }
      ]
    }
  ]
}