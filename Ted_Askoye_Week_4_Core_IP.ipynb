{
  "nbformat": 4,
  "nbformat_minor": 0,
  "metadata": {
    "colab": {
      "name": "Ted_Askoye_Week_4_Core_IP",
      "provenance": [],
      "collapsed_sections": [],
      "toc_visible": true,
      "authorship_tag": "ABX9TyOPnHr7AQ3xLsMwdc7Smv/e",
      "include_colab_link": true
    },
    "kernelspec": {
      "name": "python3",
      "display_name": "Python 3"
    }
  },
  "cells": [
    {
      "cell_type": "markdown",
      "metadata": {
        "id": "view-in-github",
        "colab_type": "text"
      },
      "source": [
        "<a href=\"https://colab.research.google.com/github/Askoye/IP-Core/blob/master/Ted_Askoye_Week_4_Core_IP.ipynb\" target=\"_parent\"><img src=\"https://colab.research.google.com/assets/colab-badge.svg\" alt=\"Open In Colab\"/></a>"
      ]
    },
    {
      "cell_type": "markdown",
      "metadata": {
        "id": "ztCDWNQBMsbi",
        "colab_type": "text"
      },
      "source": [
        "# Autolib Notebook\n"
      ]
    },
    {
      "cell_type": "markdown",
      "metadata": {
        "id": "D8fU6GyGo8Ms",
        "colab_type": "text"
      },
      "source": [
        "\n",
        "## 1.) Defining the Question\n",
        "\n",
        "### a)Specifying the Data Analytic Question\n",
        "\n",
        "\n",
        "### b)Defining the Metric for Success\n",
        "\n",
        "\n",
        "### c) Understanding the context\n",
        "\n",
        "\n",
        "### d) Recording the Experimental Design\n",
        "\n",
        "\n",
        "\n",
        "\n"
      ]
    },
    {
      "cell_type": "markdown",
      "metadata": {
        "id": "I0SZ4fD0rSIu",
        "colab_type": "text"
      },
      "source": [
        "##2) Reading, Checking and Previewing the Data\n"
      ]
    },
    {
      "cell_type": "code",
      "metadata": {
        "id": "hh6oCA1xo2YD",
        "colab_type": "code",
        "colab": {}
      },
      "source": [
        "# We will begin by importing the libraries that we need\n",
        "\n",
        "import pandas as pd\n",
        "import numpy as np\n",
        "import seaborn as sns\n",
        "import scipy.stats as stats\n",
        "import matplotlib\n",
        "from matplotlib import pyplot as plt"
      ],
      "execution_count": 50,
      "outputs": []
    },
    {
      "cell_type": "code",
      "metadata": {
        "id": "-SPJOs2WrYS6",
        "colab_type": "code",
        "colab": {}
      },
      "source": [
        "# Dataset and Glossary\n",
        "\n",
        "# Dataset = \"http://bit.ly/DSCoreAutolibDataset\"\n",
        "# Glossary = \"http://bit.ly/DSCoreAutolibDatasetGlossary\"\n",
        "\n",
        "autolib_df = pd.read_csv(\"autolib_daily_events_postal_code.csv\")\n",
        "autolib_glossary = pd.read_excel(\"columns_explanation.xlsx\")"
      ],
      "execution_count": 51,
      "outputs": []
    },
    {
      "cell_type": "code",
      "metadata": {
        "id": "Fxv6xS7stM62",
        "colab_type": "code",
        "colab": {
          "base_uri": "https://localhost:8080/",
          "height": 396
        },
        "outputId": "9b52d2ee-0a0f-4ad3-c002-61e222710728"
      },
      "source": [
        "# Previewing the the top of our dataset\n",
        "\n",
        "autolib_df.head(10)"
      ],
      "execution_count": 52,
      "outputs": [
        {
          "output_type": "execute_result",
          "data": {
            "text/html": [
              "<div>\n",
              "<style scoped>\n",
              "    .dataframe tbody tr th:only-of-type {\n",
              "        vertical-align: middle;\n",
              "    }\n",
              "\n",
              "    .dataframe tbody tr th {\n",
              "        vertical-align: top;\n",
              "    }\n",
              "\n",
              "    .dataframe thead th {\n",
              "        text-align: right;\n",
              "    }\n",
              "</style>\n",
              "<table border=\"1\" class=\"dataframe\">\n",
              "  <thead>\n",
              "    <tr style=\"text-align: right;\">\n",
              "      <th></th>\n",
              "      <th>Postal code</th>\n",
              "      <th>date</th>\n",
              "      <th>n_daily_data_points</th>\n",
              "      <th>dayOfWeek</th>\n",
              "      <th>day_type</th>\n",
              "      <th>BlueCars_taken_sum</th>\n",
              "      <th>BlueCars_returned_sum</th>\n",
              "      <th>Utilib_taken_sum</th>\n",
              "      <th>Utilib_returned_sum</th>\n",
              "      <th>Utilib_14_taken_sum</th>\n",
              "      <th>Utilib_14_returned_sum</th>\n",
              "      <th>Slots_freed_sum</th>\n",
              "      <th>Slots_taken_sum</th>\n",
              "    </tr>\n",
              "  </thead>\n",
              "  <tbody>\n",
              "    <tr>\n",
              "      <th>0</th>\n",
              "      <td>75001</td>\n",
              "      <td>1/1/2018</td>\n",
              "      <td>1440</td>\n",
              "      <td>0</td>\n",
              "      <td>weekday</td>\n",
              "      <td>110</td>\n",
              "      <td>103</td>\n",
              "      <td>3</td>\n",
              "      <td>2</td>\n",
              "      <td>10</td>\n",
              "      <td>9</td>\n",
              "      <td>22</td>\n",
              "      <td>20</td>\n",
              "    </tr>\n",
              "    <tr>\n",
              "      <th>1</th>\n",
              "      <td>75001</td>\n",
              "      <td>1/2/2018</td>\n",
              "      <td>1438</td>\n",
              "      <td>1</td>\n",
              "      <td>weekday</td>\n",
              "      <td>98</td>\n",
              "      <td>94</td>\n",
              "      <td>1</td>\n",
              "      <td>1</td>\n",
              "      <td>8</td>\n",
              "      <td>8</td>\n",
              "      <td>23</td>\n",
              "      <td>22</td>\n",
              "    </tr>\n",
              "    <tr>\n",
              "      <th>2</th>\n",
              "      <td>75001</td>\n",
              "      <td>1/3/2018</td>\n",
              "      <td>1439</td>\n",
              "      <td>2</td>\n",
              "      <td>weekday</td>\n",
              "      <td>138</td>\n",
              "      <td>139</td>\n",
              "      <td>0</td>\n",
              "      <td>0</td>\n",
              "      <td>2</td>\n",
              "      <td>2</td>\n",
              "      <td>27</td>\n",
              "      <td>27</td>\n",
              "    </tr>\n",
              "    <tr>\n",
              "      <th>3</th>\n",
              "      <td>75001</td>\n",
              "      <td>1/4/2018</td>\n",
              "      <td>1320</td>\n",
              "      <td>3</td>\n",
              "      <td>weekday</td>\n",
              "      <td>104</td>\n",
              "      <td>104</td>\n",
              "      <td>2</td>\n",
              "      <td>2</td>\n",
              "      <td>9</td>\n",
              "      <td>8</td>\n",
              "      <td>25</td>\n",
              "      <td>21</td>\n",
              "    </tr>\n",
              "    <tr>\n",
              "      <th>4</th>\n",
              "      <td>75001</td>\n",
              "      <td>1/5/2018</td>\n",
              "      <td>1440</td>\n",
              "      <td>4</td>\n",
              "      <td>weekday</td>\n",
              "      <td>114</td>\n",
              "      <td>117</td>\n",
              "      <td>3</td>\n",
              "      <td>3</td>\n",
              "      <td>6</td>\n",
              "      <td>6</td>\n",
              "      <td>18</td>\n",
              "      <td>20</td>\n",
              "    </tr>\n",
              "    <tr>\n",
              "      <th>5</th>\n",
              "      <td>75001</td>\n",
              "      <td>1/6/2018</td>\n",
              "      <td>1437</td>\n",
              "      <td>5</td>\n",
              "      <td>weekend</td>\n",
              "      <td>187</td>\n",
              "      <td>185</td>\n",
              "      <td>6</td>\n",
              "      <td>6</td>\n",
              "      <td>7</td>\n",
              "      <td>8</td>\n",
              "      <td>38</td>\n",
              "      <td>35</td>\n",
              "    </tr>\n",
              "    <tr>\n",
              "      <th>6</th>\n",
              "      <td>75001</td>\n",
              "      <td>1/7/2018</td>\n",
              "      <td>1440</td>\n",
              "      <td>6</td>\n",
              "      <td>weekend</td>\n",
              "      <td>180</td>\n",
              "      <td>180</td>\n",
              "      <td>2</td>\n",
              "      <td>2</td>\n",
              "      <td>10</td>\n",
              "      <td>9</td>\n",
              "      <td>34</td>\n",
              "      <td>34</td>\n",
              "    </tr>\n",
              "    <tr>\n",
              "      <th>7</th>\n",
              "      <td>75001</td>\n",
              "      <td>1/8/2018</td>\n",
              "      <td>1438</td>\n",
              "      <td>0</td>\n",
              "      <td>weekday</td>\n",
              "      <td>84</td>\n",
              "      <td>83</td>\n",
              "      <td>3</td>\n",
              "      <td>3</td>\n",
              "      <td>10</td>\n",
              "      <td>10</td>\n",
              "      <td>14</td>\n",
              "      <td>15</td>\n",
              "    </tr>\n",
              "    <tr>\n",
              "      <th>8</th>\n",
              "      <td>75001</td>\n",
              "      <td>1/9/2018</td>\n",
              "      <td>1439</td>\n",
              "      <td>1</td>\n",
              "      <td>weekday</td>\n",
              "      <td>81</td>\n",
              "      <td>84</td>\n",
              "      <td>1</td>\n",
              "      <td>1</td>\n",
              "      <td>4</td>\n",
              "      <td>4</td>\n",
              "      <td>15</td>\n",
              "      <td>15</td>\n",
              "    </tr>\n",
              "    <tr>\n",
              "      <th>9</th>\n",
              "      <td>75001</td>\n",
              "      <td>1/10/2018</td>\n",
              "      <td>1440</td>\n",
              "      <td>2</td>\n",
              "      <td>weekday</td>\n",
              "      <td>88</td>\n",
              "      <td>85</td>\n",
              "      <td>5</td>\n",
              "      <td>5</td>\n",
              "      <td>11</td>\n",
              "      <td>11</td>\n",
              "      <td>23</td>\n",
              "      <td>22</td>\n",
              "    </tr>\n",
              "  </tbody>\n",
              "</table>\n",
              "</div>"
            ],
            "text/plain": [
              "   Postal code       date  ...  Slots_freed_sum  Slots_taken_sum\n",
              "0        75001   1/1/2018  ...               22               20\n",
              "1        75001   1/2/2018  ...               23               22\n",
              "2        75001   1/3/2018  ...               27               27\n",
              "3        75001   1/4/2018  ...               25               21\n",
              "4        75001   1/5/2018  ...               18               20\n",
              "5        75001   1/6/2018  ...               38               35\n",
              "6        75001   1/7/2018  ...               34               34\n",
              "7        75001   1/8/2018  ...               14               15\n",
              "8        75001   1/9/2018  ...               15               15\n",
              "9        75001  1/10/2018  ...               23               22\n",
              "\n",
              "[10 rows x 13 columns]"
            ]
          },
          "metadata": {
            "tags": []
          },
          "execution_count": 52
        }
      ]
    },
    {
      "cell_type": "code",
      "metadata": {
        "id": "t9B_4rXexukX",
        "colab_type": "code",
        "colab": {
          "base_uri": "https://localhost:8080/",
          "height": 396
        },
        "outputId": "ffbff748-b7f8-4333-e6da-658a5ac8d63a"
      },
      "source": [
        "# Previewing the the bottom of our dataset\n",
        "\n",
        "autolib_df.tail(10)"
      ],
      "execution_count": 53,
      "outputs": [
        {
          "output_type": "execute_result",
          "data": {
            "text/html": [
              "<div>\n",
              "<style scoped>\n",
              "    .dataframe tbody tr th:only-of-type {\n",
              "        vertical-align: middle;\n",
              "    }\n",
              "\n",
              "    .dataframe tbody tr th {\n",
              "        vertical-align: top;\n",
              "    }\n",
              "\n",
              "    .dataframe thead th {\n",
              "        text-align: right;\n",
              "    }\n",
              "</style>\n",
              "<table border=\"1\" class=\"dataframe\">\n",
              "  <thead>\n",
              "    <tr style=\"text-align: right;\">\n",
              "      <th></th>\n",
              "      <th>Postal code</th>\n",
              "      <th>date</th>\n",
              "      <th>n_daily_data_points</th>\n",
              "      <th>dayOfWeek</th>\n",
              "      <th>day_type</th>\n",
              "      <th>BlueCars_taken_sum</th>\n",
              "      <th>BlueCars_returned_sum</th>\n",
              "      <th>Utilib_taken_sum</th>\n",
              "      <th>Utilib_returned_sum</th>\n",
              "      <th>Utilib_14_taken_sum</th>\n",
              "      <th>Utilib_14_returned_sum</th>\n",
              "      <th>Slots_freed_sum</th>\n",
              "      <th>Slots_taken_sum</th>\n",
              "    </tr>\n",
              "  </thead>\n",
              "  <tbody>\n",
              "    <tr>\n",
              "      <th>16075</th>\n",
              "      <td>95880</td>\n",
              "      <td>6/10/2018</td>\n",
              "      <td>1440</td>\n",
              "      <td>6</td>\n",
              "      <td>weekend</td>\n",
              "      <td>34</td>\n",
              "      <td>32</td>\n",
              "      <td>0</td>\n",
              "      <td>0</td>\n",
              "      <td>1</td>\n",
              "      <td>0</td>\n",
              "      <td>0</td>\n",
              "      <td>0</td>\n",
              "    </tr>\n",
              "    <tr>\n",
              "      <th>16076</th>\n",
              "      <td>95880</td>\n",
              "      <td>6/11/2018</td>\n",
              "      <td>1440</td>\n",
              "      <td>0</td>\n",
              "      <td>weekday</td>\n",
              "      <td>17</td>\n",
              "      <td>18</td>\n",
              "      <td>0</td>\n",
              "      <td>0</td>\n",
              "      <td>0</td>\n",
              "      <td>0</td>\n",
              "      <td>0</td>\n",
              "      <td>0</td>\n",
              "    </tr>\n",
              "    <tr>\n",
              "      <th>16077</th>\n",
              "      <td>95880</td>\n",
              "      <td>6/12/2018</td>\n",
              "      <td>1439</td>\n",
              "      <td>1</td>\n",
              "      <td>weekday</td>\n",
              "      <td>25</td>\n",
              "      <td>25</td>\n",
              "      <td>0</td>\n",
              "      <td>0</td>\n",
              "      <td>0</td>\n",
              "      <td>0</td>\n",
              "      <td>0</td>\n",
              "      <td>0</td>\n",
              "    </tr>\n",
              "    <tr>\n",
              "      <th>16078</th>\n",
              "      <td>95880</td>\n",
              "      <td>6/13/2018</td>\n",
              "      <td>1440</td>\n",
              "      <td>2</td>\n",
              "      <td>weekday</td>\n",
              "      <td>12</td>\n",
              "      <td>13</td>\n",
              "      <td>0</td>\n",
              "      <td>0</td>\n",
              "      <td>1</td>\n",
              "      <td>1</td>\n",
              "      <td>0</td>\n",
              "      <td>0</td>\n",
              "    </tr>\n",
              "    <tr>\n",
              "      <th>16079</th>\n",
              "      <td>95880</td>\n",
              "      <td>6/14/2018</td>\n",
              "      <td>1439</td>\n",
              "      <td>3</td>\n",
              "      <td>weekday</td>\n",
              "      <td>15</td>\n",
              "      <td>13</td>\n",
              "      <td>0</td>\n",
              "      <td>0</td>\n",
              "      <td>0</td>\n",
              "      <td>0</td>\n",
              "      <td>0</td>\n",
              "      <td>0</td>\n",
              "    </tr>\n",
              "    <tr>\n",
              "      <th>16080</th>\n",
              "      <td>95880</td>\n",
              "      <td>6/15/2018</td>\n",
              "      <td>1440</td>\n",
              "      <td>4</td>\n",
              "      <td>weekday</td>\n",
              "      <td>15</td>\n",
              "      <td>10</td>\n",
              "      <td>0</td>\n",
              "      <td>0</td>\n",
              "      <td>2</td>\n",
              "      <td>3</td>\n",
              "      <td>0</td>\n",
              "      <td>0</td>\n",
              "    </tr>\n",
              "    <tr>\n",
              "      <th>16081</th>\n",
              "      <td>95880</td>\n",
              "      <td>6/16/2018</td>\n",
              "      <td>1440</td>\n",
              "      <td>5</td>\n",
              "      <td>weekend</td>\n",
              "      <td>19</td>\n",
              "      <td>19</td>\n",
              "      <td>0</td>\n",
              "      <td>0</td>\n",
              "      <td>2</td>\n",
              "      <td>1</td>\n",
              "      <td>0</td>\n",
              "      <td>0</td>\n",
              "    </tr>\n",
              "    <tr>\n",
              "      <th>16082</th>\n",
              "      <td>95880</td>\n",
              "      <td>6/17/2018</td>\n",
              "      <td>1440</td>\n",
              "      <td>6</td>\n",
              "      <td>weekend</td>\n",
              "      <td>33</td>\n",
              "      <td>35</td>\n",
              "      <td>1</td>\n",
              "      <td>1</td>\n",
              "      <td>0</td>\n",
              "      <td>0</td>\n",
              "      <td>0</td>\n",
              "      <td>0</td>\n",
              "    </tr>\n",
              "    <tr>\n",
              "      <th>16083</th>\n",
              "      <td>95880</td>\n",
              "      <td>6/18/2018</td>\n",
              "      <td>1440</td>\n",
              "      <td>0</td>\n",
              "      <td>weekday</td>\n",
              "      <td>11</td>\n",
              "      <td>14</td>\n",
              "      <td>3</td>\n",
              "      <td>5</td>\n",
              "      <td>2</td>\n",
              "      <td>2</td>\n",
              "      <td>0</td>\n",
              "      <td>0</td>\n",
              "    </tr>\n",
              "    <tr>\n",
              "      <th>16084</th>\n",
              "      <td>95880</td>\n",
              "      <td>6/19/2018</td>\n",
              "      <td>1370</td>\n",
              "      <td>1</td>\n",
              "      <td>weekday</td>\n",
              "      <td>2</td>\n",
              "      <td>2</td>\n",
              "      <td>2</td>\n",
              "      <td>1</td>\n",
              "      <td>0</td>\n",
              "      <td>0</td>\n",
              "      <td>0</td>\n",
              "      <td>0</td>\n",
              "    </tr>\n",
              "  </tbody>\n",
              "</table>\n",
              "</div>"
            ],
            "text/plain": [
              "       Postal code       date  ...  Slots_freed_sum  Slots_taken_sum\n",
              "16075        95880  6/10/2018  ...                0                0\n",
              "16076        95880  6/11/2018  ...                0                0\n",
              "16077        95880  6/12/2018  ...                0                0\n",
              "16078        95880  6/13/2018  ...                0                0\n",
              "16079        95880  6/14/2018  ...                0                0\n",
              "16080        95880  6/15/2018  ...                0                0\n",
              "16081        95880  6/16/2018  ...                0                0\n",
              "16082        95880  6/17/2018  ...                0                0\n",
              "16083        95880  6/18/2018  ...                0                0\n",
              "16084        95880  6/19/2018  ...                0                0\n",
              "\n",
              "[10 rows x 13 columns]"
            ]
          },
          "metadata": {
            "tags": []
          },
          "execution_count": 53
        }
      ]
    },
    {
      "cell_type": "code",
      "metadata": {
        "id": "3iKAWBjWwP8m",
        "colab_type": "code",
        "colab": {
          "base_uri": "https://localhost:8080/",
          "height": 452
        },
        "outputId": "9b5ce110-3a60-492c-d0b8-812733664d18"
      },
      "source": [
        "# Previewing the Glossary\n",
        "\n",
        "autolib_glossary"
      ],
      "execution_count": 54,
      "outputs": [
        {
          "output_type": "execute_result",
          "data": {
            "text/html": [
              "<div>\n",
              "<style scoped>\n",
              "    .dataframe tbody tr th:only-of-type {\n",
              "        vertical-align: middle;\n",
              "    }\n",
              "\n",
              "    .dataframe tbody tr th {\n",
              "        vertical-align: top;\n",
              "    }\n",
              "\n",
              "    .dataframe thead th {\n",
              "        text-align: right;\n",
              "    }\n",
              "</style>\n",
              "<table border=\"1\" class=\"dataframe\">\n",
              "  <thead>\n",
              "    <tr style=\"text-align: right;\">\n",
              "      <th></th>\n",
              "      <th>Column name</th>\n",
              "      <th>explanation</th>\n",
              "    </tr>\n",
              "  </thead>\n",
              "  <tbody>\n",
              "    <tr>\n",
              "      <th>0</th>\n",
              "      <td>Postal code</td>\n",
              "      <td>postal code of the area (in Paris)</td>\n",
              "    </tr>\n",
              "    <tr>\n",
              "      <th>1</th>\n",
              "      <td>date</td>\n",
              "      <td>date of the row aggregation</td>\n",
              "    </tr>\n",
              "    <tr>\n",
              "      <th>2</th>\n",
              "      <td>n_daily_data_points</td>\n",
              "      <td>number of daily data poinst that were availabl...</td>\n",
              "    </tr>\n",
              "    <tr>\n",
              "      <th>3</th>\n",
              "      <td>dayOfWeek</td>\n",
              "      <td>identifier of weekday (0: Monday -&gt; 6: Sunday)</td>\n",
              "    </tr>\n",
              "    <tr>\n",
              "      <th>4</th>\n",
              "      <td>day_type</td>\n",
              "      <td>weekday or weekend</td>\n",
              "    </tr>\n",
              "    <tr>\n",
              "      <th>5</th>\n",
              "      <td>BlueCars_taken_sum</td>\n",
              "      <td>Number of bluecars taken that date in that area</td>\n",
              "    </tr>\n",
              "    <tr>\n",
              "      <th>6</th>\n",
              "      <td>BlueCars_returned_sum</td>\n",
              "      <td>Number of bluecars returned that date in that ...</td>\n",
              "    </tr>\n",
              "    <tr>\n",
              "      <th>7</th>\n",
              "      <td>Utilib_taken_sum</td>\n",
              "      <td>Number of Utilib taken that date in that area</td>\n",
              "    </tr>\n",
              "    <tr>\n",
              "      <th>8</th>\n",
              "      <td>Utilib_returned_sum</td>\n",
              "      <td>Number of Utilib returned that date in that area</td>\n",
              "    </tr>\n",
              "    <tr>\n",
              "      <th>9</th>\n",
              "      <td>Utilib_14_taken_sum</td>\n",
              "      <td>Number of Utilib 1.4 taken that date in that area</td>\n",
              "    </tr>\n",
              "    <tr>\n",
              "      <th>10</th>\n",
              "      <td>Utilib_14_returned_sum</td>\n",
              "      <td>Number of Utilib 1.4 returned that date in tha...</td>\n",
              "    </tr>\n",
              "    <tr>\n",
              "      <th>11</th>\n",
              "      <td>Slots_freed_sum</td>\n",
              "      <td>Number of recharging slots released that date ...</td>\n",
              "    </tr>\n",
              "    <tr>\n",
              "      <th>12</th>\n",
              "      <td>Slots_taken_sum</td>\n",
              "      <td>Number of rechargign slots taken that date in ...</td>\n",
              "    </tr>\n",
              "  </tbody>\n",
              "</table>\n",
              "</div>"
            ],
            "text/plain": [
              "               Column name                                        explanation\n",
              "0              Postal code                 postal code of the area (in Paris)\n",
              "1                     date                        date of the row aggregation\n",
              "2      n_daily_data_points  number of daily data poinst that were availabl...\n",
              "3                dayOfWeek     identifier of weekday (0: Monday -> 6: Sunday)\n",
              "4                 day_type                                 weekday or weekend\n",
              "5       BlueCars_taken_sum    Number of bluecars taken that date in that area\n",
              "6    BlueCars_returned_sum  Number of bluecars returned that date in that ...\n",
              "7         Utilib_taken_sum      Number of Utilib taken that date in that area\n",
              "8      Utilib_returned_sum   Number of Utilib returned that date in that area\n",
              "9      Utilib_14_taken_sum  Number of Utilib 1.4 taken that date in that area\n",
              "10  Utilib_14_returned_sum  Number of Utilib 1.4 returned that date in tha...\n",
              "11         Slots_freed_sum  Number of recharging slots released that date ...\n",
              "12         Slots_taken_sum  Number of rechargign slots taken that date in ..."
            ]
          },
          "metadata": {
            "tags": []
          },
          "execution_count": 54
        }
      ]
    },
    {
      "cell_type": "code",
      "metadata": {
        "id": "tniAqi-iw5Pw",
        "colab_type": "code",
        "colab": {
          "base_uri": "https://localhost:8080/",
          "height": 34
        },
        "outputId": "8768acfe-6ee0-476d-e393-43a36a75528c"
      },
      "source": [
        "# Checking the shape of our data\n",
        "\n",
        "autolib_df.shape\n",
        "\n",
        "# Our dataset has 16085 records and 13 columns"
      ],
      "execution_count": 55,
      "outputs": [
        {
          "output_type": "execute_result",
          "data": {
            "text/plain": [
              "(16085, 13)"
            ]
          },
          "metadata": {
            "tags": []
          },
          "execution_count": 55
        }
      ]
    },
    {
      "cell_type": "code",
      "metadata": {
        "id": "jqFIcTO_0F6M",
        "colab_type": "code",
        "colab": {
          "base_uri": "https://localhost:8080/",
          "height": 102
        },
        "outputId": "942782bc-4ca2-4bce-ed0e-352166bf94a3"
      },
      "source": [
        "# check the columns that are in our dataset\n",
        "autolib_df.columns"
      ],
      "execution_count": 56,
      "outputs": [
        {
          "output_type": "execute_result",
          "data": {
            "text/plain": [
              "Index(['Postal code', 'date', 'n_daily_data_points', 'dayOfWeek', 'day_type',\n",
              "       'BlueCars_taken_sum', 'BlueCars_returned_sum', 'Utilib_taken_sum',\n",
              "       'Utilib_returned_sum', 'Utilib_14_taken_sum', 'Utilib_14_returned_sum',\n",
              "       'Slots_freed_sum', 'Slots_taken_sum'],\n",
              "      dtype='object')"
            ]
          },
          "metadata": {
            "tags": []
          },
          "execution_count": 56
        }
      ]
    },
    {
      "cell_type": "code",
      "metadata": {
        "id": "Q2_tyYf308X8",
        "colab_type": "code",
        "colab": {
          "base_uri": "https://localhost:8080/",
          "height": 357
        },
        "outputId": "15bdc3ef-473c-4d01-8d10-c163eef2a2e8"
      },
      "source": [
        "# # Checking the dataset information\n",
        "autolib_df.info()"
      ],
      "execution_count": 57,
      "outputs": [
        {
          "output_type": "stream",
          "text": [
            "<class 'pandas.core.frame.DataFrame'>\n",
            "RangeIndex: 16085 entries, 0 to 16084\n",
            "Data columns (total 13 columns):\n",
            " #   Column                  Non-Null Count  Dtype \n",
            "---  ------                  --------------  ----- \n",
            " 0   Postal code             16085 non-null  int64 \n",
            " 1   date                    16085 non-null  object\n",
            " 2   n_daily_data_points     16085 non-null  int64 \n",
            " 3   dayOfWeek               16085 non-null  int64 \n",
            " 4   day_type                16085 non-null  object\n",
            " 5   BlueCars_taken_sum      16085 non-null  int64 \n",
            " 6   BlueCars_returned_sum   16085 non-null  int64 \n",
            " 7   Utilib_taken_sum        16085 non-null  int64 \n",
            " 8   Utilib_returned_sum     16085 non-null  int64 \n",
            " 9   Utilib_14_taken_sum     16085 non-null  int64 \n",
            " 10  Utilib_14_returned_sum  16085 non-null  int64 \n",
            " 11  Slots_freed_sum         16085 non-null  int64 \n",
            " 12  Slots_taken_sum         16085 non-null  int64 \n",
            "dtypes: int64(11), object(2)\n",
            "memory usage: 1.6+ MB\n"
          ],
          "name": "stdout"
        }
      ]
    },
    {
      "cell_type": "code",
      "metadata": {
        "id": "Z8yw3vhP2KzX",
        "colab_type": "code",
        "colab": {
          "base_uri": "https://localhost:8080/",
          "height": 255
        },
        "outputId": "9da473d7-f6e9-4423-912b-54c6fd7f39b4"
      },
      "source": [
        "# check for unique values in our Autolib dataset\n",
        "autolib_df.nunique()"
      ],
      "execution_count": 58,
      "outputs": [
        {
          "output_type": "execute_result",
          "data": {
            "text/plain": [
              "Postal code               104\n",
              "date                      156\n",
              "n_daily_data_points        23\n",
              "dayOfWeek                   7\n",
              "day_type                    2\n",
              "BlueCars_taken_sum        932\n",
              "BlueCars_returned_sum     929\n",
              "Utilib_taken_sum           48\n",
              "Utilib_returned_sum        49\n",
              "Utilib_14_taken_sum        92\n",
              "Utilib_14_returned_sum     94\n",
              "Slots_freed_sum           297\n",
              "Slots_taken_sum           301\n",
              "dtype: int64"
            ]
          },
          "metadata": {
            "tags": []
          },
          "execution_count": 58
        }
      ]
    },
    {
      "cell_type": "code",
      "metadata": {
        "id": "IkianthY3DQI",
        "colab_type": "code",
        "colab": {
          "base_uri": "https://localhost:8080/",
          "height": 221
        },
        "outputId": "6ea18793-a157-49e2-dc1b-a64190cd8171"
      },
      "source": [
        "#  Checking this for specific columns\n",
        "autolib_df['Postal code'].unique()"
      ],
      "execution_count": 59,
      "outputs": [
        {
          "output_type": "execute_result",
          "data": {
            "text/plain": [
              "array([75001, 75002, 75003, 75004, 75005, 75006, 75007, 75008, 75009,\n",
              "       75010, 75011, 75012, 75013, 75014, 75015, 75016, 75017, 75018,\n",
              "       75019, 75020, 75112, 75116, 78000, 78140, 78150, 91330, 91370,\n",
              "       91400, 92000, 92100, 92110, 92120, 92130, 92140, 92150, 92160,\n",
              "       92170, 92190, 92200, 92210, 92220, 92230, 92240, 92250, 92260,\n",
              "       92270, 92290, 92300, 92310, 92320, 92330, 92340, 92350, 92360,\n",
              "       92370, 92380, 92390, 92400, 92410, 92420, 92500, 92600, 92700,\n",
              "       92800, 93100, 93110, 93130, 93150, 93170, 93200, 93230, 93260,\n",
              "       93300, 93310, 93350, 93360, 93370, 93390, 93400, 93440, 93500,\n",
              "       93600, 93700, 93800, 94000, 94100, 94110, 94120, 94130, 94140,\n",
              "       94150, 94160, 94220, 94230, 94300, 94340, 94410, 94450, 94500,\n",
              "       94700, 94800, 95100, 95870, 95880])"
            ]
          },
          "metadata": {
            "tags": []
          },
          "execution_count": 59
        }
      ]
    },
    {
      "cell_type": "code",
      "metadata": {
        "id": "wIX3lOm73Sfq",
        "colab_type": "code",
        "colab": {
          "base_uri": "https://localhost:8080/",
          "height": 68
        },
        "outputId": "b8a3a869-6e28-4094-df1a-4c8edb55c8fa"
      },
      "source": [
        "autolib_df['n_daily_data_points'].unique()"
      ],
      "execution_count": 60,
      "outputs": [
        {
          "output_type": "execute_result",
          "data": {
            "text/plain": [
              "array([1440, 1438, 1439, 1320, 1437, 1434, 1398, 1420, 1425, 1396, 1429,\n",
              "       1389, 1380, 1364, 1318, 1377, 1203, 1417, 1435, 1174, 1436, 1411,\n",
              "       1370])"
            ]
          },
          "metadata": {
            "tags": []
          },
          "execution_count": 60
        }
      ]
    },
    {
      "cell_type": "code",
      "metadata": {
        "id": "rar2FcRL3eMp",
        "colab_type": "code",
        "colab": {
          "base_uri": "https://localhost:8080/",
          "height": 34
        },
        "outputId": "76360934-8a28-4f5c-8ed2-47436da741c5"
      },
      "source": [
        "autolib_df['dayOfWeek'].unique()"
      ],
      "execution_count": 61,
      "outputs": [
        {
          "output_type": "execute_result",
          "data": {
            "text/plain": [
              "array([0, 1, 2, 3, 4, 5, 6])"
            ]
          },
          "metadata": {
            "tags": []
          },
          "execution_count": 61
        }
      ]
    },
    {
      "cell_type": "markdown",
      "metadata": {
        "id": "XuAv4H5v5ejS",
        "colab_type": "text"
      },
      "source": [
        "## 4. External Data Source Validation\n",
        "This dataset was validated with an external source that is reliable.  Autolib is operated by the Bolloré Group enterprise, which won\n",
        "the contract to develop the service and to supply the area with electric cars and stations. "
      ]
    },
    {
      "cell_type": "markdown",
      "metadata": {
        "id": "ebd72Z1G6NOh",
        "colab_type": "text"
      },
      "source": [
        "## 5. Tidying the Dataset"
      ]
    },
    {
      "cell_type": "code",
      "metadata": {
        "id": "XsUlIRgWOST6",
        "colab_type": "code",
        "colab": {}
      },
      "source": [
        "#Converting Postal Code and day of the week to String from Numerical to prevent crucial data from being removed during cleaning\n",
        "\n",
        "autolib_df[\"Postal code\"] = autolib_df[\"Postal code\"].astype(int).astype(str)\n",
        "autolib_df[\"dayOfWeek\"] = autolib_df[\"dayOfWeek\"].astype(int).astype(str)"
      ],
      "execution_count": 62,
      "outputs": []
    },
    {
      "cell_type": "code",
      "metadata": {
        "id": "wNVbVMSkQGsu",
        "colab_type": "code",
        "colab": {
          "base_uri": "https://localhost:8080/",
          "height": 357
        },
        "outputId": "fe735cc1-4932-4a8a-b940-211c6f411841"
      },
      "source": [
        "# Checking to see if changes were effected\n",
        "autolib_df.info()"
      ],
      "execution_count": 63,
      "outputs": [
        {
          "output_type": "stream",
          "text": [
            "<class 'pandas.core.frame.DataFrame'>\n",
            "RangeIndex: 16085 entries, 0 to 16084\n",
            "Data columns (total 13 columns):\n",
            " #   Column                  Non-Null Count  Dtype \n",
            "---  ------                  --------------  ----- \n",
            " 0   Postal code             16085 non-null  object\n",
            " 1   date                    16085 non-null  object\n",
            " 2   n_daily_data_points     16085 non-null  int64 \n",
            " 3   dayOfWeek               16085 non-null  object\n",
            " 4   day_type                16085 non-null  object\n",
            " 5   BlueCars_taken_sum      16085 non-null  int64 \n",
            " 6   BlueCars_returned_sum   16085 non-null  int64 \n",
            " 7   Utilib_taken_sum        16085 non-null  int64 \n",
            " 8   Utilib_returned_sum     16085 non-null  int64 \n",
            " 9   Utilib_14_taken_sum     16085 non-null  int64 \n",
            " 10  Utilib_14_returned_sum  16085 non-null  int64 \n",
            " 11  Slots_freed_sum         16085 non-null  int64 \n",
            " 12  Slots_taken_sum         16085 non-null  int64 \n",
            "dtypes: int64(9), object(4)\n",
            "memory usage: 1.6+ MB\n"
          ],
          "name": "stdout"
        }
      ]
    },
    {
      "cell_type": "code",
      "metadata": {
        "id": "_v0avInr5ePU",
        "colab_type": "code",
        "colab": {
          "base_uri": "https://localhost:8080/",
          "height": 255
        },
        "outputId": "36a81803-fea8-4573-c71c-e4f80ae69d97"
      },
      "source": [
        "# Checking for null values\n",
        "\n",
        "autolib_df.isnull().sum()\n",
        "\n",
        "# We have no null values"
      ],
      "execution_count": 64,
      "outputs": [
        {
          "output_type": "execute_result",
          "data": {
            "text/plain": [
              "Postal code               0\n",
              "date                      0\n",
              "n_daily_data_points       0\n",
              "dayOfWeek                 0\n",
              "day_type                  0\n",
              "BlueCars_taken_sum        0\n",
              "BlueCars_returned_sum     0\n",
              "Utilib_taken_sum          0\n",
              "Utilib_returned_sum       0\n",
              "Utilib_14_taken_sum       0\n",
              "Utilib_14_returned_sum    0\n",
              "Slots_freed_sum           0\n",
              "Slots_taken_sum           0\n",
              "dtype: int64"
            ]
          },
          "metadata": {
            "tags": []
          },
          "execution_count": 64
        }
      ]
    },
    {
      "cell_type": "code",
      "metadata": {
        "id": "QKkvzOQF6IRJ",
        "colab_type": "code",
        "colab": {
          "base_uri": "https://localhost:8080/",
          "height": 224
        },
        "outputId": "eb4aa3dc-e9af-4cef-b6e4-3e30eab38d62"
      },
      "source": [
        "# Aligning the columns in our dataset to fill in empty spaces \n",
        "\n",
        "autolib_df.columns = autolib_df.columns.str.strip().str.lower().str.replace(' ', '_').str.replace('(', '').str.replace(')', '')\n",
        "autolib_df.head()"
      ],
      "execution_count": 65,
      "outputs": [
        {
          "output_type": "execute_result",
          "data": {
            "text/html": [
              "<div>\n",
              "<style scoped>\n",
              "    .dataframe tbody tr th:only-of-type {\n",
              "        vertical-align: middle;\n",
              "    }\n",
              "\n",
              "    .dataframe tbody tr th {\n",
              "        vertical-align: top;\n",
              "    }\n",
              "\n",
              "    .dataframe thead th {\n",
              "        text-align: right;\n",
              "    }\n",
              "</style>\n",
              "<table border=\"1\" class=\"dataframe\">\n",
              "  <thead>\n",
              "    <tr style=\"text-align: right;\">\n",
              "      <th></th>\n",
              "      <th>postal_code</th>\n",
              "      <th>date</th>\n",
              "      <th>n_daily_data_points</th>\n",
              "      <th>dayofweek</th>\n",
              "      <th>day_type</th>\n",
              "      <th>bluecars_taken_sum</th>\n",
              "      <th>bluecars_returned_sum</th>\n",
              "      <th>utilib_taken_sum</th>\n",
              "      <th>utilib_returned_sum</th>\n",
              "      <th>utilib_14_taken_sum</th>\n",
              "      <th>utilib_14_returned_sum</th>\n",
              "      <th>slots_freed_sum</th>\n",
              "      <th>slots_taken_sum</th>\n",
              "    </tr>\n",
              "  </thead>\n",
              "  <tbody>\n",
              "    <tr>\n",
              "      <th>0</th>\n",
              "      <td>75001</td>\n",
              "      <td>1/1/2018</td>\n",
              "      <td>1440</td>\n",
              "      <td>0</td>\n",
              "      <td>weekday</td>\n",
              "      <td>110</td>\n",
              "      <td>103</td>\n",
              "      <td>3</td>\n",
              "      <td>2</td>\n",
              "      <td>10</td>\n",
              "      <td>9</td>\n",
              "      <td>22</td>\n",
              "      <td>20</td>\n",
              "    </tr>\n",
              "    <tr>\n",
              "      <th>1</th>\n",
              "      <td>75001</td>\n",
              "      <td>1/2/2018</td>\n",
              "      <td>1438</td>\n",
              "      <td>1</td>\n",
              "      <td>weekday</td>\n",
              "      <td>98</td>\n",
              "      <td>94</td>\n",
              "      <td>1</td>\n",
              "      <td>1</td>\n",
              "      <td>8</td>\n",
              "      <td>8</td>\n",
              "      <td>23</td>\n",
              "      <td>22</td>\n",
              "    </tr>\n",
              "    <tr>\n",
              "      <th>2</th>\n",
              "      <td>75001</td>\n",
              "      <td>1/3/2018</td>\n",
              "      <td>1439</td>\n",
              "      <td>2</td>\n",
              "      <td>weekday</td>\n",
              "      <td>138</td>\n",
              "      <td>139</td>\n",
              "      <td>0</td>\n",
              "      <td>0</td>\n",
              "      <td>2</td>\n",
              "      <td>2</td>\n",
              "      <td>27</td>\n",
              "      <td>27</td>\n",
              "    </tr>\n",
              "    <tr>\n",
              "      <th>3</th>\n",
              "      <td>75001</td>\n",
              "      <td>1/4/2018</td>\n",
              "      <td>1320</td>\n",
              "      <td>3</td>\n",
              "      <td>weekday</td>\n",
              "      <td>104</td>\n",
              "      <td>104</td>\n",
              "      <td>2</td>\n",
              "      <td>2</td>\n",
              "      <td>9</td>\n",
              "      <td>8</td>\n",
              "      <td>25</td>\n",
              "      <td>21</td>\n",
              "    </tr>\n",
              "    <tr>\n",
              "      <th>4</th>\n",
              "      <td>75001</td>\n",
              "      <td>1/5/2018</td>\n",
              "      <td>1440</td>\n",
              "      <td>4</td>\n",
              "      <td>weekday</td>\n",
              "      <td>114</td>\n",
              "      <td>117</td>\n",
              "      <td>3</td>\n",
              "      <td>3</td>\n",
              "      <td>6</td>\n",
              "      <td>6</td>\n",
              "      <td>18</td>\n",
              "      <td>20</td>\n",
              "    </tr>\n",
              "  </tbody>\n",
              "</table>\n",
              "</div>"
            ],
            "text/plain": [
              "  postal_code      date  ...  slots_freed_sum slots_taken_sum\n",
              "0       75001  1/1/2018  ...               22              20\n",
              "1       75001  1/2/2018  ...               23              22\n",
              "2       75001  1/3/2018  ...               27              27\n",
              "3       75001  1/4/2018  ...               25              21\n",
              "4       75001  1/5/2018  ...               18              20\n",
              "\n",
              "[5 rows x 13 columns]"
            ]
          },
          "metadata": {
            "tags": []
          },
          "execution_count": 65
        }
      ]
    },
    {
      "cell_type": "code",
      "metadata": {
        "id": "Hgvri49HHCgi",
        "colab_type": "code",
        "colab": {
          "base_uri": "https://localhost:8080/",
          "height": 1000
        },
        "outputId": "5e2ef22d-0d04-42e0-8629-ac4fdf244b96"
      },
      "source": [
        "#checking and dealing with outliers \n",
        "\n",
        "col_names= ['bluecars_taken_sum', 'bluecars_returned_sum', 'utilib_taken_sum',\n",
        "       'utilib_returned_sum', 'utilib_14_taken_sum', 'utilib_14_returned_sum',\n",
        "       'slots_freed_sum', 'slots_taken_sum']\n",
        "\n",
        "fig, ax = plt.subplots(len(col_names), figsize=(10,35))\n",
        "\n",
        "for i, col_val in enumerate(col_names):\n",
        "\n",
        "    sns.boxplot(y=autolib_df[col_val], ax=ax[i])\n",
        "    ax[i].set_xlabel(col_val, fontsize=12)\n",
        "\n",
        "plt.show()\n"
      ],
      "execution_count": 66,
      "outputs": [
        {
          "output_type": "display_data",
          "data": {
            "image/png": "[encoded data removed]",
            "text/plain": [
              "<Figure size 720x2520 with 8 Axes>"
            ]
          },
          "metadata": {
            "tags": [],
            "needs_background": "light"
          }
        }
      ]
    },
    {
      "cell_type": "markdown",
      "metadata": {
        "id": "vhO1pEY7Hoet",
        "colab_type": "text"
      },
      "source": [
        "The box plot indicates that the data seems to be skewed to the right with the 3 variables year,household size and the respondent age having outliers. This could have been as a result of entry errors eg. for year we have entries for 2029, 2056 and 2039 which is incorrect. For household size, we have those outside the range from 10-above 20 and for respondent age we have outliers of respondent aged above 85"
      ]
    },
    {
      "cell_type": "code",
      "metadata": {
        "id": "XNKCX2krHkhY",
        "colab_type": "code",
        "colab": {
          "base_uri": "https://localhost:8080/",
          "height": 493
        },
        "outputId": "788042a3-2417-4ae2-841a-4efe40fce3c9"
      },
      "source": [
        "#We will go ahead to remove the outliers in our dataset as its clear some of them could have been caused by entry errors\n",
        "Q1 = autolib_df.quantile(0.25)\n",
        "Q3 = autolib_df.quantile(0.75)\n",
        "IQR = Q3 - Q1\n",
        "autolib_df_out = autolib_df[~((autolib_df < (Q1 - 1.5 * IQR)) | (autolib_df > (Q3 + 1.5 * IQR))).any(axis=1)]\n",
        "print(autolib_df)\n",
        "print(autolib_df_out)"
      ],
      "execution_count": 67,
      "outputs": [
        {
          "output_type": "stream",
          "text": [
            "      postal_code       date  ...  slots_freed_sum slots_taken_sum\n",
            "0           75001   1/1/2018  ...               22              20\n",
            "1           75001   1/2/2018  ...               23              22\n",
            "2           75001   1/3/2018  ...               27              27\n",
            "3           75001   1/4/2018  ...               25              21\n",
            "4           75001   1/5/2018  ...               18              20\n",
            "...           ...        ...  ...              ...             ...\n",
            "16080       95880  6/15/2018  ...                0               0\n",
            "16081       95880  6/16/2018  ...                0               0\n",
            "16082       95880  6/17/2018  ...                0               0\n",
            "16083       95880  6/18/2018  ...                0               0\n",
            "16084       95880  6/19/2018  ...                0               0\n",
            "\n",
            "[16085 rows x 13 columns]\n",
            "      postal_code       date  ...  slots_freed_sum slots_taken_sum\n",
            "22          75001  1/23/2018  ...               11               9\n",
            "29          75001  1/30/2018  ...               11              11\n",
            "36          75001   2/6/2018  ...               12              11\n",
            "133         75001  5/28/2018  ...                9               8\n",
            "140         75001   6/4/2018  ...               11              11\n",
            "...           ...        ...  ...              ...             ...\n",
            "16079       95880  6/14/2018  ...                0               0\n",
            "16080       95880  6/15/2018  ...                0               0\n",
            "16081       95880  6/16/2018  ...                0               0\n",
            "16082       95880  6/17/2018  ...                0               0\n",
            "16083       95880  6/18/2018  ...                0               0\n",
            "\n",
            "[10439 rows x 13 columns]\n"
          ],
          "name": "stdout"
        }
      ]
    },
    {
      "cell_type": "code",
      "metadata": {
        "id": "FuQTZMzOIVW_",
        "colab_type": "code",
        "colab": {
          "base_uri": "https://localhost:8080/",
          "height": 68
        },
        "outputId": "7be12bd9-5201-45a9-c565-45bb6c4d3ac2"
      },
      "source": [
        "print(\"The Dataset with Outliers is : \", autolib_df.shape)\n",
        "print(\"xxxx\"*20)\n",
        "print(\"The Dataset without Outliers is : \", autolib_df_out.shape)"
      ],
      "execution_count": 68,
      "outputs": [
        {
          "output_type": "stream",
          "text": [
            "The Dataset with Outliers is :  (16085, 13)\n",
            "xxxxxxxxxxxxxxxxxxxxxxxxxxxxxxxxxxxxxxxxxxxxxxxxxxxxxxxxxxxxxxxxxxxxxxxxxxxxxxxx\n",
            "The Dataset without Outliers is :  (10439, 13)\n"
          ],
          "name": "stdout"
        }
      ]
    },
    {
      "cell_type": "markdown",
      "metadata": {
        "id": "JoyJbcpjIV5d",
        "colab_type": "text"
      },
      "source": [
        "## 6. Exploratory Analysis\n",
        "a)Univariate analysis"
      ]
    },
    {
      "cell_type": "code",
      "metadata": {
        "id": "_r2_ZMgZLd5p",
        "colab_type": "code",
        "colab": {
          "base_uri": "https://localhost:8080/",
          "height": 328
        },
        "outputId": "367a3379-fae3-4e85-f041-e87b688dc724"
      },
      "source": [
        "# Checking for statistical summaries of our cleaned data:\n",
        "\n",
        "autolib_df_out.describe().transpose()"
      ],
      "execution_count": 69,
      "outputs": [
        {
          "output_type": "execute_result",
          "data": {
            "text/html": [
              "<div>\n",
              "<style scoped>\n",
              "    .dataframe tbody tr th:only-of-type {\n",
              "        vertical-align: middle;\n",
              "    }\n",
              "\n",
              "    .dataframe tbody tr th {\n",
              "        vertical-align: top;\n",
              "    }\n",
              "\n",
              "    .dataframe thead th {\n",
              "        text-align: right;\n",
              "    }\n",
              "</style>\n",
              "<table border=\"1\" class=\"dataframe\">\n",
              "  <thead>\n",
              "    <tr style=\"text-align: right;\">\n",
              "      <th></th>\n",
              "      <th>count</th>\n",
              "      <th>mean</th>\n",
              "      <th>std</th>\n",
              "      <th>min</th>\n",
              "      <th>25%</th>\n",
              "      <th>50%</th>\n",
              "      <th>75%</th>\n",
              "      <th>max</th>\n",
              "    </tr>\n",
              "  </thead>\n",
              "  <tbody>\n",
              "    <tr>\n",
              "      <th>n_daily_data_points</th>\n",
              "      <td>10439.0</td>\n",
              "      <td>1439.698534</td>\n",
              "      <td>0.564849</td>\n",
              "      <td>1438.0</td>\n",
              "      <td>1440.0</td>\n",
              "      <td>1440.0</td>\n",
              "      <td>1440.0</td>\n",
              "      <td>1440.0</td>\n",
              "    </tr>\n",
              "    <tr>\n",
              "      <th>bluecars_taken_sum</th>\n",
              "      <td>10439.0</td>\n",
              "      <td>47.961682</td>\n",
              "      <td>45.384376</td>\n",
              "      <td>0.0</td>\n",
              "      <td>16.0</td>\n",
              "      <td>33.0</td>\n",
              "      <td>65.0</td>\n",
              "      <td>293.0</td>\n",
              "    </tr>\n",
              "    <tr>\n",
              "      <th>bluecars_returned_sum</th>\n",
              "      <td>10439.0</td>\n",
              "      <td>47.932944</td>\n",
              "      <td>45.282542</td>\n",
              "      <td>0.0</td>\n",
              "      <td>16.0</td>\n",
              "      <td>33.0</td>\n",
              "      <td>63.0</td>\n",
              "      <td>301.0</td>\n",
              "    </tr>\n",
              "    <tr>\n",
              "      <th>utilib_taken_sum</th>\n",
              "      <td>10439.0</td>\n",
              "      <td>1.463167</td>\n",
              "      <td>1.881414</td>\n",
              "      <td>0.0</td>\n",
              "      <td>0.0</td>\n",
              "      <td>1.0</td>\n",
              "      <td>2.0</td>\n",
              "      <td>10.0</td>\n",
              "    </tr>\n",
              "    <tr>\n",
              "      <th>utilib_returned_sum</th>\n",
              "      <td>10439.0</td>\n",
              "      <td>1.458760</td>\n",
              "      <td>1.863466</td>\n",
              "      <td>0.0</td>\n",
              "      <td>0.0</td>\n",
              "      <td>1.0</td>\n",
              "      <td>2.0</td>\n",
              "      <td>10.0</td>\n",
              "    </tr>\n",
              "    <tr>\n",
              "      <th>utilib_14_taken_sum</th>\n",
              "      <td>10439.0</td>\n",
              "      <td>3.465179</td>\n",
              "      <td>3.830314</td>\n",
              "      <td>0.0</td>\n",
              "      <td>1.0</td>\n",
              "      <td>2.0</td>\n",
              "      <td>5.0</td>\n",
              "      <td>23.0</td>\n",
              "    </tr>\n",
              "    <tr>\n",
              "      <th>utilib_14_returned_sum</th>\n",
              "      <td>10439.0</td>\n",
              "      <td>3.467286</td>\n",
              "      <td>3.833058</td>\n",
              "      <td>0.0</td>\n",
              "      <td>1.0</td>\n",
              "      <td>2.0</td>\n",
              "      <td>5.0</td>\n",
              "      <td>23.0</td>\n",
              "    </tr>\n",
              "    <tr>\n",
              "      <th>slots_freed_sum</th>\n",
              "      <td>10439.0</td>\n",
              "      <td>0.717885</td>\n",
              "      <td>1.840033</td>\n",
              "      <td>0.0</td>\n",
              "      <td>0.0</td>\n",
              "      <td>0.0</td>\n",
              "      <td>0.0</td>\n",
              "      <td>12.0</td>\n",
              "    </tr>\n",
              "    <tr>\n",
              "      <th>slots_taken_sum</th>\n",
              "      <td>10439.0</td>\n",
              "      <td>0.715203</td>\n",
              "      <td>1.834457</td>\n",
              "      <td>0.0</td>\n",
              "      <td>0.0</td>\n",
              "      <td>0.0</td>\n",
              "      <td>0.0</td>\n",
              "      <td>12.0</td>\n",
              "    </tr>\n",
              "  </tbody>\n",
              "</table>\n",
              "</div>"
            ],
            "text/plain": [
              "                          count         mean        std  ...     50%     75%     max\n",
              "n_daily_data_points     10439.0  1439.698534   0.564849  ...  1440.0  1440.0  1440.0\n",
              "bluecars_taken_sum      10439.0    47.961682  45.384376  ...    33.0    65.0   293.0\n",
              "bluecars_returned_sum   10439.0    47.932944  45.282542  ...    33.0    63.0   301.0\n",
              "utilib_taken_sum        10439.0     1.463167   1.881414  ...     1.0     2.0    10.0\n",
              "utilib_returned_sum     10439.0     1.458760   1.863466  ...     1.0     2.0    10.0\n",
              "utilib_14_taken_sum     10439.0     3.465179   3.830314  ...     2.0     5.0    23.0\n",
              "utilib_14_returned_sum  10439.0     3.467286   3.833058  ...     2.0     5.0    23.0\n",
              "slots_freed_sum         10439.0     0.717885   1.840033  ...     0.0     0.0    12.0\n",
              "slots_taken_sum         10439.0     0.715203   1.834457  ...     0.0     0.0    12.0\n",
              "\n",
              "[9 rows x 8 columns]"
            ]
          },
          "metadata": {
            "tags": []
          },
          "execution_count": 69
        }
      ]
    },
    {
      "cell_type": "code",
      "metadata": {
        "id": "OD4WzsmJar3Q",
        "colab_type": "code",
        "colab": {
          "base_uri": "https://localhost:8080/",
          "height": 235
        },
        "outputId": "d4e62614-c7b6-4792-a65e-ba0230ac2fbe"
      },
      "source": [
        "# Skewness\n",
        "pd.DataFrame.from_dict(dict(\n",
        "    {\n",
        "        'bluecars_taken': autolib_df_out.bluecars_taken_sum.skew(), \n",
        "        'bluecars_returned': autolib_df_out.bluecars_returned_sum.skew(), \n",
        "        'utilib_taken': autolib_df_out.utilib_taken_sum.skew(),\n",
        "        'utilib_returned_returned': autolib_df_out.utilib_returned_sum.skew(),\n",
        "        'slots_feed': autolib_df_out.slots_freed_sum.skew(),\n",
        "        'slots_taken': autolib_df_out.slots_taken_sum.skew()\n",
        "    }), orient='index', columns=['Skewness'])"
      ],
      "execution_count": 70,
      "outputs": [
        {
          "output_type": "execute_result",
          "data": {
            "text/html": [
              "<div>\n",
              "<style scoped>\n",
              "    .dataframe tbody tr th:only-of-type {\n",
              "        vertical-align: middle;\n",
              "    }\n",
              "\n",
              "    .dataframe tbody tr th {\n",
              "        vertical-align: top;\n",
              "    }\n",
              "\n",
              "    .dataframe thead th {\n",
              "        text-align: right;\n",
              "    }\n",
              "</style>\n",
              "<table border=\"1\" class=\"dataframe\">\n",
              "  <thead>\n",
              "    <tr style=\"text-align: right;\">\n",
              "      <th></th>\n",
              "      <th>Skewness</th>\n",
              "    </tr>\n",
              "  </thead>\n",
              "  <tbody>\n",
              "    <tr>\n",
              "      <th>bluecars_taken</th>\n",
              "      <td>1.851170</td>\n",
              "    </tr>\n",
              "    <tr>\n",
              "      <th>bluecars_returned</th>\n",
              "      <td>1.860630</td>\n",
              "    </tr>\n",
              "    <tr>\n",
              "      <th>utilib_taken</th>\n",
              "      <td>1.679776</td>\n",
              "    </tr>\n",
              "    <tr>\n",
              "      <th>utilib_returned_returned</th>\n",
              "      <td>1.682364</td>\n",
              "    </tr>\n",
              "    <tr>\n",
              "      <th>slots_feed</th>\n",
              "      <td>3.126425</td>\n",
              "    </tr>\n",
              "    <tr>\n",
              "      <th>slots_taken</th>\n",
              "      <td>3.110729</td>\n",
              "    </tr>\n",
              "  </tbody>\n",
              "</table>\n",
              "</div>"
            ],
            "text/plain": [
              "                          Skewness\n",
              "bluecars_taken            1.851170\n",
              "bluecars_returned         1.860630\n",
              "utilib_taken              1.679776\n",
              "utilib_returned_returned  1.682364\n",
              "slots_feed                3.126425\n",
              "slots_taken               3.110729"
            ]
          },
          "metadata": {
            "tags": []
          },
          "execution_count": 70
        }
      ]
    },
    {
      "cell_type": "code",
      "metadata": {
        "id": "-YIYKBsv-gbz",
        "colab_type": "code",
        "colab": {}
      },
      "source": [
        "#Slots,Bluecars and the utilib cars Taken and Returned: Value is high and hence right skewed as shown in the plot above."
      ],
      "execution_count": 71,
      "outputs": []
    },
    {
      "cell_type": "code",
      "metadata": {
        "id": "ziHuPcnZcm3Y",
        "colab_type": "code",
        "colab": {
          "base_uri": "https://localhost:8080/",
          "height": 235
        },
        "outputId": "d17061a4-532e-4d9e-de72-864619848dc4"
      },
      "source": [
        "# Kurtosis \n",
        "pd.DataFrame.from_dict(dict(\n",
        "    {\n",
        "        'bluecars_taken': autolib_df_out.bluecars_taken_sum.kurt(), \n",
        "        'bluecars_returned': autolib_df_out.bluecars_returned_sum.kurt(), \n",
        "        'utilib_taken': autolib_df_out.utilib_taken_sum.kurt(),\n",
        "        'utilib_returned_returned': autolib_df_out.utilib_returned_sum.kurt(),\n",
        "        'slots_feed': autolib_df_out.slots_freed_sum.kurt(),\n",
        "        'slots_taken': autolib_df_out.slots_taken_sum.kurt()\n",
        "    }), orient='index', columns=['Kurtosis'])"
      ],
      "execution_count": 72,
      "outputs": [
        {
          "output_type": "execute_result",
          "data": {
            "text/html": [
              "<div>\n",
              "<style scoped>\n",
              "    .dataframe tbody tr th:only-of-type {\n",
              "        vertical-align: middle;\n",
              "    }\n",
              "\n",
              "    .dataframe tbody tr th {\n",
              "        vertical-align: top;\n",
              "    }\n",
              "\n",
              "    .dataframe thead th {\n",
              "        text-align: right;\n",
              "    }\n",
              "</style>\n",
              "<table border=\"1\" class=\"dataframe\">\n",
              "  <thead>\n",
              "    <tr style=\"text-align: right;\">\n",
              "      <th></th>\n",
              "      <th>Kurtosis</th>\n",
              "    </tr>\n",
              "  </thead>\n",
              "  <tbody>\n",
              "    <tr>\n",
              "      <th>bluecars_taken</th>\n",
              "      <td>4.239283</td>\n",
              "    </tr>\n",
              "    <tr>\n",
              "      <th>bluecars_returned</th>\n",
              "      <td>4.264400</td>\n",
              "    </tr>\n",
              "    <tr>\n",
              "      <th>utilib_taken</th>\n",
              "      <td>2.830660</td>\n",
              "    </tr>\n",
              "    <tr>\n",
              "      <th>utilib_returned_returned</th>\n",
              "      <td>2.880134</td>\n",
              "    </tr>\n",
              "    <tr>\n",
              "      <th>slots_feed</th>\n",
              "      <td>10.423053</td>\n",
              "    </tr>\n",
              "    <tr>\n",
              "      <th>slots_taken</th>\n",
              "      <td>10.234651</td>\n",
              "    </tr>\n",
              "  </tbody>\n",
              "</table>\n",
              "</div>"
            ],
            "text/plain": [
              "                           Kurtosis\n",
              "bluecars_taken             4.239283\n",
              "bluecars_returned          4.264400\n",
              "utilib_taken               2.830660\n",
              "utilib_returned_returned   2.880134\n",
              "slots_feed                10.423053\n",
              "slots_taken               10.234651"
            ]
          },
          "metadata": {
            "tags": []
          },
          "execution_count": 72
        }
      ]
    },
    {
      "cell_type": "code",
      "metadata": {
        "id": "7pd8MHJy-kWi",
        "colab_type": "code",
        "colab": {}
      },
      "source": [
        "#  : Values is close to 0, hence uniformly distributed as shown in the plot above.\n",
        "# Slots taken/Returned and Utilib and Bluecars Taken/Returned : Value is high and is Leptokurtic which indicates a positive excess kurtosis with heavy tails on either side, indicating large outliers."
      ],
      "execution_count": 73,
      "outputs": []
    },
    {
      "cell_type": "code",
      "metadata": {
        "id": "vZOqIyL6BFua",
        "colab_type": "code",
        "colab": {
          "base_uri": "https://localhost:8080/",
          "height": 348
        },
        "outputId": "5397645f-4616-4689-a3be-5fafc4a94d60"
      },
      "source": [
        "autolib_df_out.corr()"
      ],
      "execution_count": 74,
      "outputs": [
        {
          "output_type": "execute_result",
          "data": {
            "text/html": [
              "<div>\n",
              "<style scoped>\n",
              "    .dataframe tbody tr th:only-of-type {\n",
              "        vertical-align: middle;\n",
              "    }\n",
              "\n",
              "    .dataframe tbody tr th {\n",
              "        vertical-align: top;\n",
              "    }\n",
              "\n",
              "    .dataframe thead th {\n",
              "        text-align: right;\n",
              "    }\n",
              "</style>\n",
              "<table border=\"1\" class=\"dataframe\">\n",
              "  <thead>\n",
              "    <tr style=\"text-align: right;\">\n",
              "      <th></th>\n",
              "      <th>n_daily_data_points</th>\n",
              "      <th>bluecars_taken_sum</th>\n",
              "      <th>bluecars_returned_sum</th>\n",
              "      <th>utilib_taken_sum</th>\n",
              "      <th>utilib_returned_sum</th>\n",
              "      <th>utilib_14_taken_sum</th>\n",
              "      <th>utilib_14_returned_sum</th>\n",
              "      <th>slots_freed_sum</th>\n",
              "      <th>slots_taken_sum</th>\n",
              "    </tr>\n",
              "  </thead>\n",
              "  <tbody>\n",
              "    <tr>\n",
              "      <th>n_daily_data_points</th>\n",
              "      <td>1.000000</td>\n",
              "      <td>0.003204</td>\n",
              "      <td>0.004937</td>\n",
              "      <td>0.011772</td>\n",
              "      <td>0.010806</td>\n",
              "      <td>0.011819</td>\n",
              "      <td>0.016175</td>\n",
              "      <td>0.000662</td>\n",
              "      <td>-0.000301</td>\n",
              "    </tr>\n",
              "    <tr>\n",
              "      <th>bluecars_taken_sum</th>\n",
              "      <td>0.003204</td>\n",
              "      <td>1.000000</td>\n",
              "      <td>0.991863</td>\n",
              "      <td>0.623262</td>\n",
              "      <td>0.621566</td>\n",
              "      <td>0.750197</td>\n",
              "      <td>0.745404</td>\n",
              "      <td>0.287352</td>\n",
              "      <td>0.284604</td>\n",
              "    </tr>\n",
              "    <tr>\n",
              "      <th>bluecars_returned_sum</th>\n",
              "      <td>0.004937</td>\n",
              "      <td>0.991863</td>\n",
              "      <td>1.000000</td>\n",
              "      <td>0.625626</td>\n",
              "      <td>0.623501</td>\n",
              "      <td>0.752919</td>\n",
              "      <td>0.748883</td>\n",
              "      <td>0.284326</td>\n",
              "      <td>0.284422</td>\n",
              "    </tr>\n",
              "    <tr>\n",
              "      <th>utilib_taken_sum</th>\n",
              "      <td>0.011772</td>\n",
              "      <td>0.623262</td>\n",
              "      <td>0.625626</td>\n",
              "      <td>1.000000</td>\n",
              "      <td>0.896100</td>\n",
              "      <td>0.502973</td>\n",
              "      <td>0.494374</td>\n",
              "      <td>0.186579</td>\n",
              "      <td>0.185841</td>\n",
              "    </tr>\n",
              "    <tr>\n",
              "      <th>utilib_returned_sum</th>\n",
              "      <td>0.010806</td>\n",
              "      <td>0.621566</td>\n",
              "      <td>0.623501</td>\n",
              "      <td>0.896100</td>\n",
              "      <td>1.000000</td>\n",
              "      <td>0.506172</td>\n",
              "      <td>0.498136</td>\n",
              "      <td>0.185583</td>\n",
              "      <td>0.185218</td>\n",
              "    </tr>\n",
              "    <tr>\n",
              "      <th>utilib_14_taken_sum</th>\n",
              "      <td>0.011819</td>\n",
              "      <td>0.750197</td>\n",
              "      <td>0.752919</td>\n",
              "      <td>0.502973</td>\n",
              "      <td>0.506172</td>\n",
              "      <td>1.000000</td>\n",
              "      <td>0.947928</td>\n",
              "      <td>0.202606</td>\n",
              "      <td>0.201341</td>\n",
              "    </tr>\n",
              "    <tr>\n",
              "      <th>utilib_14_returned_sum</th>\n",
              "      <td>0.016175</td>\n",
              "      <td>0.745404</td>\n",
              "      <td>0.748883</td>\n",
              "      <td>0.494374</td>\n",
              "      <td>0.498136</td>\n",
              "      <td>0.947928</td>\n",
              "      <td>1.000000</td>\n",
              "      <td>0.198484</td>\n",
              "      <td>0.199852</td>\n",
              "    </tr>\n",
              "    <tr>\n",
              "      <th>slots_freed_sum</th>\n",
              "      <td>0.000662</td>\n",
              "      <td>0.287352</td>\n",
              "      <td>0.284326</td>\n",
              "      <td>0.186579</td>\n",
              "      <td>0.185583</td>\n",
              "      <td>0.202606</td>\n",
              "      <td>0.198484</td>\n",
              "      <td>1.000000</td>\n",
              "      <td>0.984708</td>\n",
              "    </tr>\n",
              "    <tr>\n",
              "      <th>slots_taken_sum</th>\n",
              "      <td>-0.000301</td>\n",
              "      <td>0.284604</td>\n",
              "      <td>0.284422</td>\n",
              "      <td>0.185841</td>\n",
              "      <td>0.185218</td>\n",
              "      <td>0.201341</td>\n",
              "      <td>0.199852</td>\n",
              "      <td>0.984708</td>\n",
              "      <td>1.000000</td>\n",
              "    </tr>\n",
              "  </tbody>\n",
              "</table>\n",
              "</div>"
            ],
            "text/plain": [
              "                        n_daily_data_points  ...  slots_taken_sum\n",
              "n_daily_data_points                1.000000  ...        -0.000301\n",
              "bluecars_taken_sum                 0.003204  ...         0.284604\n",
              "bluecars_returned_sum              0.004937  ...         0.284422\n",
              "utilib_taken_sum                   0.011772  ...         0.185841\n",
              "utilib_returned_sum                0.010806  ...         0.185218\n",
              "utilib_14_taken_sum                0.011819  ...         0.201341\n",
              "utilib_14_returned_sum             0.016175  ...         0.199852\n",
              "slots_freed_sum                    0.000662  ...         0.984708\n",
              "slots_taken_sum                   -0.000301  ...         1.000000\n",
              "\n",
              "[9 rows x 9 columns]"
            ]
          },
          "metadata": {
            "tags": []
          },
          "execution_count": 74
        }
      ]
    },
    {
      "cell_type": "markdown",
      "metadata": {
        "id": "_JJYceJbBnMB",
        "colab_type": "text"
      },
      "source": [
        "Obervations based on pair plot and correlation table\n",
        "There is a high positive correlation between Utilib 14 and BlueCars taken\n",
        "Slots have little to no correlation with the cars taken or returned\n"
      ]
    },
    {
      "cell_type": "code",
      "metadata": {
        "id": "kvOjnm-UhhqM",
        "colab_type": "code",
        "colab": {
          "base_uri": "https://localhost:8080/",
          "height": 397
        },
        "outputId": "ca968f37-ad64-468a-b50c-c498559c5ba0"
      },
      "source": [
        "f, axes = plt.subplots(1, 2, figsize=(20, 8))\n",
        "dayofweek = sns.distplot(autolib_df_out['dayofweek'], color=\"red\", ax=axes[0], kde=True, hist_kws={\"edgecolor\":\"k\"})\n",
        "dayofweek.set_xlabel(\"Day of the Week\",fontsize=20)\n",
        "\n",
        "postal_code = sns.distplot(autolib_df_out['postal_code'], color='green', ax = axes[1], kde=True, hist_kws={\"edgecolor\":\"k\"})\n",
        "postal_code.set_xlabel(\"Postal Code\",fontsize=20)\n"
      ],
      "execution_count": 75,
      "outputs": [
        {
          "output_type": "execute_result",
          "data": {
            "text/plain": [
              "Text(0.5, 0, 'Postal Code')"
            ]
          },
          "metadata": {
            "tags": []
          },
          "execution_count": 75
        },
        {
          "output_type": "display_data",
          "data": {
            "image/png": "[encoded data removed]",
            "text/plain": [
              "<Figure size 1440x576 with 2 Axes>"
            ]
          },
          "metadata": {
            "tags": [],
            "needs_background": "light"
          }
        }
      ]
    },
    {
      "cell_type": "code",
      "metadata": {
        "id": "cAAz1FH3GYbq",
        "colab_type": "code",
        "colab": {
          "base_uri": "https://localhost:8080/",
          "height": 663
        },
        "outputId": "f95ac371-46b0-45bb-e6d4-371a25c12591"
      },
      "source": [
        "# Plotting our numerical variables on histogram to assess the relationship\n",
        "autolib_df_out.drop(['postal_code','dayofweek','day_type'] ,axis=1).hist(bins=10, figsize=(10,10))\n",
        "plt.suptitle(\"Histogram of numeric variables in Autolib dataset\")\n",
        "plt.savefig('Autolib Histogram')\n",
        "plt.show()"
      ],
      "execution_count": 162,
      "outputs": [
        {
          "output_type": "display_data",
          "data": {
            "image/png": "[encoded data removed]",
            "text/plain": [
              "<Figure size 720x720 with 9 Axes>"
            ]
          },
          "metadata": {
            "tags": [],
            "needs_background": "light"
          }
        }
      ]
    },
    {
      "cell_type": "markdown",
      "metadata": {
        "id": "L_IZcl4cHF4t",
        "colab_type": "text"
      },
      "source": [
        "Based on the histograms above we can see the kinds of distributions that exist among the variables in the dataset. All distributions except the n_daily_data_points seem to follow a positive skewed distribution."
      ]
    },
    {
      "cell_type": "code",
      "metadata": {
        "id": "EOaW7tCZHpoz",
        "colab_type": "code",
        "colab": {
          "base_uri": "https://localhost:8080/",
          "height": 297
        },
        "outputId": "68e2038f-9d20-479b-8e89-4b98f107027e"
      },
      "source": [
        "# Plotting the count of type of days of the week\n",
        "sns.countplot(autolib_df_out['day_type'])"
      ],
      "execution_count": 77,
      "outputs": [
        {
          "output_type": "execute_result",
          "data": {
            "text/plain": [
              "<matplotlib.axes._subplots.AxesSubplot at 0x7f6484e35a20>"
            ]
          },
          "metadata": {
            "tags": []
          },
          "execution_count": 77
        },
        {
          "output_type": "display_data",
          "data": {
            "image/png": "[encoded data removed]",
            "text/plain": [
              "<Figure size 432x288 with 1 Axes>"
            ]
          },
          "metadata": {
            "tags": [],
            "needs_background": "light"
          }
        }
      ]
    },
    {
      "cell_type": "markdown",
      "metadata": {
        "id": "ftwDXIDCIzRr",
        "colab_type": "text"
      },
      "source": [
        "The key objective of our solution is to be able to predict which individuals are most likely to have or use a bank account. The dataset shows that most entries represent individuals who did not have a bank account. Therefore if we use the dataset as is, this may result to having a model with a bias."
      ]
    },
    {
      "cell_type": "code",
      "metadata": {
        "id": "W3VjVLqOIUXh",
        "colab_type": "code",
        "colab": {
          "base_uri": "https://localhost:8080/",
          "height": 317
        },
        "outputId": "53bfc91a-4104-43a3-8352-f9ed280ce196"
      },
      "source": [
        "# Plotting type of days of the week by percentage\n",
        "(autolib_df_out['day_type'].value_counts()/len(autolib_df_out)).plot.bar()\n",
        "\n",
        "# The Weekdays were 70% & Weekends were 30% "
      ],
      "execution_count": 78,
      "outputs": [
        {
          "output_type": "execute_result",
          "data": {
            "text/plain": [
              "<matplotlib.axes._subplots.AxesSubplot at 0x7f6484dd1780>"
            ]
          },
          "metadata": {
            "tags": []
          },
          "execution_count": 78
        },
        {
          "output_type": "display_data",
          "data": {
            "image/png": "[encoded data removed]",
            "text/plain": [
              "<Figure size 432x288 with 1 Axes>"
            ]
          },
          "metadata": {
            "tags": [],
            "needs_background": "light"
          }
        }
      ]
    },
    {
      "cell_type": "code",
      "metadata": {
        "id": "ZYBM-VSOM7gf",
        "colab_type": "code",
        "colab": {
          "base_uri": "https://localhost:8080/",
          "height": 279
        },
        "outputId": "de13e054-3ce4-4f4b-d497-ad62900a880c"
      },
      "source": [
        "(autolib_df_out['dayofweek'].value_counts()/len(autolib_df_out)).plot.bar()"
      ],
      "execution_count": 79,
      "outputs": [
        {
          "output_type": "execute_result",
          "data": {
            "text/plain": [
              "<matplotlib.axes._subplots.AxesSubplot at 0x7f6484d272b0>"
            ]
          },
          "metadata": {
            "tags": []
          },
          "execution_count": 79
        },
        {
          "output_type": "display_data",
          "data": {
            "image/png": "[encoded data removed]",
            "text/plain": [
              "<Figure size 432x288 with 1 Axes>"
            ]
          },
          "metadata": {
            "tags": [],
            "needs_background": "light"
          }
        }
      ]
    },
    {
      "cell_type": "markdown",
      "metadata": {
        "id": "vdSZ7aJlT7X9",
        "colab_type": "text"
      },
      "source": [
        "We found out that Sunday, Monday, Tuesday had the highest frequencies of data respectively."
      ]
    },
    {
      "cell_type": "code",
      "metadata": {
        "id": "o_29pxEdOqdN",
        "colab_type": "code",
        "colab": {
          "base_uri": "https://localhost:8080/",
          "height": 221
        },
        "outputId": "46731284-6189-438a-e350-41d5dfba6d46"
      },
      "source": [
        "autolib_df_out_copy = autolib_df_out.copy()\n",
        "autolib_df_out_copy.postal_code.value_counts()"
      ],
      "execution_count": 81,
      "outputs": [
        {
          "output_type": "execute_result",
          "data": {
            "text/plain": [
              "92260    130\n",
              "95870    130\n",
              "91330    130\n",
              "93360    130\n",
              "94110    130\n",
              "        ... \n",
              "92800     82\n",
              "93390     72\n",
              "92130     65\n",
              "75001      6\n",
              "92100      4\n",
              "Name: postal_code, Length: 85, dtype: int64"
            ]
          },
          "metadata": {
            "tags": []
          },
          "execution_count": 81
        }
      ]
    },
    {
      "cell_type": "code",
      "metadata": {
        "id": "YxGARv1yPBib",
        "colab_type": "code",
        "colab": {
          "base_uri": "https://localhost:8080/",
          "height": 68
        },
        "outputId": "7ef45d04-4d05-422e-ea2f-b35b0aa07e3f"
      },
      "source": [
        "autolib_df_out_copy.day_type.value_counts()"
      ],
      "execution_count": 82,
      "outputs": [
        {
          "output_type": "execute_result",
          "data": {
            "text/plain": [
              "weekday    7276\n",
              "weekend    3163\n",
              "Name: day_type, dtype: int64"
            ]
          },
          "metadata": {
            "tags": []
          },
          "execution_count": 82
        }
      ]
    },
    {
      "cell_type": "code",
      "metadata": {
        "id": "RUbsh0ThPFab",
        "colab_type": "code",
        "colab": {
          "base_uri": "https://localhost:8080/",
          "height": 153
        },
        "outputId": "f6efdec0-cbd5-4dc8-a8e7-b2a08aef4290"
      },
      "source": [
        "autolib_df_out_copy.dayofweek.value_counts()"
      ],
      "execution_count": 83,
      "outputs": [
        {
          "output_type": "execute_result",
          "data": {
            "text/plain": [
              "6    1669\n",
              "0    1627\n",
              "1    1623\n",
              "5    1494\n",
              "2    1450\n",
              "4    1368\n",
              "3    1208\n",
              "Name: dayofweek, dtype: int64"
            ]
          },
          "metadata": {
            "tags": []
          },
          "execution_count": 83
        }
      ]
    },
    {
      "cell_type": "code",
      "metadata": {
        "id": "5KhKrtu8PJMj",
        "colab_type": "code",
        "colab": {
          "base_uri": "https://localhost:8080/",
          "height": 85
        },
        "outputId": "a09983c1-ae56-46d6-db9b-2c8aefcc8724"
      },
      "source": [
        "autolib_df_out_copy.n_daily_data_points.value_counts()"
      ],
      "execution_count": 84,
      "outputs": [
        {
          "output_type": "execute_result",
          "data": {
            "text/plain": [
              "1440    7858\n",
              "1439    2015\n",
              "1438     566\n",
              "Name: n_daily_data_points, dtype: int64"
            ]
          },
          "metadata": {
            "tags": []
          },
          "execution_count": 84
        }
      ]
    },
    {
      "cell_type": "markdown",
      "metadata": {
        "id": "tG4c-GZLPuMX",
        "colab_type": "text"
      },
      "source": [
        "#### Answer questions based on Statistical Evidence\n"
      ]
    },
    {
      "cell_type": "markdown",
      "metadata": {
        "id": "UPB1aoQRxXre",
        "colab_type": "text"
      },
      "source": [
        "1.) Is A Sample of Bluecars taken From the Autolib dataset"
      ]
    },
    {
      "cell_type": "code",
      "metadata": {
        "id": "08OIEqEou58J",
        "colab_type": "code",
        "colab": {
          "base_uri": "https://localhost:8080/",
          "height": 34
        },
        "outputId": "e73a97dc-ae9b-4846-fe9f-b38a03c1f4f1"
      },
      "source": [
        "bluecars_taken_sum = autolib_df_out['bluecars_taken_sum']\n",
        "mu = bluecars_taken_sum.mean()\n",
        "sigma = bluecars_taken_sum.std(ddof=0)\n",
        "print(\"mu: \", mu, \", sigma:\", sigma)"
      ],
      "execution_count": 163,
      "outputs": [
        {
          "output_type": "stream",
          "text": [
            "mu:  47.961682153462974 , sigma: 45.382202168602525\n"
          ],
          "name": "stdout"
        }
      ]
    },
    {
      "cell_type": "markdown",
      "metadata": {
        "id": "5vS1KWlku5su",
        "colab_type": "text"
      },
      "source": [
        "We take a sample of N=10 bluecars_taken which yields a sample mean of x_bar = 50. \n",
        "Is this sample from the Autolib dataset?\n",
        "\n",
        "H0: The sample is from the Autolib Dataset, x_bar = μ.\n",
        "\n",
        "HA: The sample is not from the Autolib dataset, x_bar != (not equal) μ."
      ]
    },
    {
      "cell_type": "code",
      "metadata": {
        "id": "F71--o0bvb1_",
        "colab_type": "code",
        "colab": {
          "base_uri": "https://localhost:8080/",
          "height": 34
        },
        "outputId": "328630b1-e259-488e-ace1-591436f0e531"
      },
      "source": [
        "z_critical = 1.96 # alpha level of 0.05 and two-tailed test\n",
        "x_bar = 50\n",
        "N = 10\n",
        "SE = sigma/np.sqrt(N)\n",
        "z_stat = (x_bar - mu)/SE\n",
        "print(z_stat)"
      ],
      "execution_count": 165,
      "outputs": [
        {
          "output_type": "stream",
          "text": [
            "0.1420320452163074\n"
          ],
          "name": "stdout"
        }
      ]
    },
    {
      "cell_type": "markdown",
      "metadata": {
        "id": "x5PBAsvtvz7r",
        "colab_type": "text"
      },
      "source": [
        "Since z_stat is more than z_critical we accept the null hypothesis and reject the althernative. "
      ]
    },
    {
      "cell_type": "markdown",
      "metadata": {
        "id": "gAmyrtsAxO42",
        "colab_type": "text"
      },
      "source": [
        "a.) Do all the cars taken differ significantly, the same"
      ]
    },
    {
      "cell_type": "markdown",
      "metadata": {
        "id": "r1h6YjoQKP7W",
        "colab_type": "text"
      },
      "source": [
        "State null hypothesis\n",
        "H0 : Proportion of All cars taken are similar\n",
        "\n",
        "State alternate hypothesis\n",
        "H1 : Proportion of all cars taken are significantly different in different car models"
      ]
    },
    {
      "cell_type": "code",
      "metadata": {
        "id": "R6kmyYFqxOnU",
        "colab_type": "code",
        "colab": {
          "base_uri": "https://localhost:8080/",
          "height": 68
        },
        "outputId": "8814a827-c755-4115-817b-be319ff6a2d9"
      },
      "source": [
        "#get the cars based on taken samples\n",
        "bluecars_taken = autolib_df_out.bluecars_taken_sum\n",
        "utilib_cars_taken = autolib_df_out.utilib_taken_sum\n",
        "utilib_14_cars_taken = autolib_df_out.utilib_14_taken_sum\n",
        "\n",
        "#Since there are multiple samples and we need to check the variances of multiple samples, choosing ANOVA testing for this\n",
        "\n",
        "f_stat, p_value = stats.f_oneway(bluecars_taken,utilib_cars_taken ,utilib_14_cars_taken )\n",
        "\n",
        "\n",
        "# Setting our significance level at 5%\n",
        "if p_value < 0.05:  \n",
        "    print(f'As the p_value **({p_value}) < 0.05**,\\n We reject the Null Hypothesis.\\n Hence ** All the cars taken differ significantly**')\n",
        "else:\n",
        "    print(f'As the p_value **({p_value}) > 0.05**,\\n We fail to reject Null Hypothesis.\\n Hence **All the cars taken are the same**')"
      ],
      "execution_count": 167,
      "outputs": [
        {
          "output_type": "stream",
          "text": [
            "As the p_value **(0.0) < 0.05**,\n",
            " We reject the Null Hypothesis.\n",
            " Hence ** All the cars taken differ significantly**\n"
          ],
          "name": "stdout"
        }
      ]
    },
    {
      "cell_type": "markdown",
      "metadata": {
        "id": "Ei3SVoQ1PzMG",
        "colab_type": "text"
      },
      "source": [
        "b.) Do all the cars returned differ significantly, the same"
      ]
    },
    {
      "cell_type": "markdown",
      "metadata": {
        "id": "nSEYDvQQKlab",
        "colab_type": "text"
      },
      "source": [
        "State null hypothesis\n",
        "H0 : Proportion of All cars returned are similar\n",
        "\n",
        "State alternate hypothesis\n",
        "H1 : Proportion of all cars returned are significantly different in different car models"
      ]
    },
    {
      "cell_type": "code",
      "metadata": {
        "id": "wsioM2d7QA2F",
        "colab_type": "code",
        "colab": {
          "base_uri": "https://localhost:8080/",
          "height": 68
        },
        "outputId": "4e3f5553-40dc-429f-9983-4feff7d68ae1"
      },
      "source": [
        "#get the cars based on returned samples\n",
        "bluecars_returned = autolib_df_out.bluecars_returned_sum\n",
        "utilib_cars_returned = autolib_df_out.utilib_returned_sum\n",
        "utilib_14_cars_returned = autolib_df_out.utilib_14_returned_sum\n",
        "\n",
        "#Since there are multiple samples and we need to check the variances of multiple samples, choosing ANOVA testing for this\n",
        "\n",
        "f_stat, p_value = stats.f_oneway(bluecars_returned,utilib_cars_returned ,utilib_14_cars_returned )\n",
        "\n",
        "\n",
        "# Setting our significance level at 5%\n",
        "if p_value < 0.05:  \n",
        "    print(f'As the p_value **({p_value}) < 0.05**,\\n We reject the Null Hypothesis.\\n Hence **Slots taken by all the cars returned differ significantly**')\n",
        "else:\n",
        "    print(f'As the p_value **({p_value}) > 0.05**,\\n We fail to reject Null Hypothesis.\\n Hence **Slots taken by all the cars returned are the same**')"
      ],
      "execution_count": 141,
      "outputs": [
        {
          "output_type": "stream",
          "text": [
            "As the p_value **(0.0) < 0.05**,\n",
            " We reject the Null Hypothesis.\n",
            " Hence **Slots taken by all the cars returned differ significantly**\n"
          ],
          "name": "stdout"
        }
      ]
    },
    {
      "cell_type": "markdown",
      "metadata": {
        "id": "XPxsJxHzy4_a",
        "colab_type": "text"
      },
      "source": [
        "c.) Utilib cars taken differ significantly from Utilib14 Cars taken"
      ]
    },
    {
      "cell_type": "markdown",
      "metadata": {
        "id": "3jdaOPPmKq6K",
        "colab_type": "text"
      },
      "source": [
        "State null hypothesis\n",
        "H0 : Proportion of Utilib cars taken are similar to the Utilib 14 cars taken\n",
        "\n",
        "State alternate hypothesis\n",
        "H1 : Proportion of Utilib cars taken are significantly different in Utilib14 cars taken"
      ]
    },
    {
      "cell_type": "code",
      "metadata": {
        "id": "YOMH0R4PyPNR",
        "colab_type": "code",
        "colab": {
          "base_uri": "https://localhost:8080/",
          "height": 85
        },
        "outputId": "cff6c07d-79bd-4d56-a2a6-9590a47f2b05"
      },
      "source": [
        "X = np.array(autolib_df_out.utilib_taken_sum) #Utilib Taken\n",
        "Y = np.array(autolib_df_out.utilib_14_taken_sum) #Utilib 14 cars Taken\n",
        "\n",
        "#executing the independent t-test to run tests on single variable\n",
        "t_stat, p_value = stats.ttest_ind(X,Y)\n",
        "\n",
        "# Setting our significance level at 5%\n",
        "if p_value < 0.05:  \n",
        "    print(f'As the p_value **({p_value}) < 0.05**,\\n We reject the Null Hypothesis.\\n Hence **Utilib cars taken differ significantly from Utilib14 Cars taken**')\n",
        "    print('xxx'*20)\n",
        "else:\n",
        "    print(f'As the p_value **({p_value}) > 0.05**,\\n We fail to reject Null Hypothesis.\\n Hence **Utilib cars taken are similar to Utilib14 Cars taken**')\n",
        "    print('xxx'*20)"
      ],
      "execution_count": 140,
      "outputs": [
        {
          "output_type": "stream",
          "text": [
            "As the p_value **(0.0) < 0.05**,\n",
            " We reject the Null Hypothesis.\n",
            " Hence **Utilib cars taken differ significantly from Utilib14 Cars taken**\n",
            "xxxxxxxxxxxxxxxxxxxxxxxxxxxxxxxxxxxxxxxxxxxxxxxxxxxxxxxxxxxx\n"
          ],
          "name": "stdout"
        }
      ]
    },
    {
      "cell_type": "markdown",
      "metadata": {
        "id": "JuhUsFpnjIsD",
        "colab_type": "text"
      },
      "source": [
        "d.) Do the Bluecars taken on Sunday differ significantly from the Utilib cars taken on the same day\n",
        "\n",
        "\n",
        "\n"
      ]
    },
    {
      "cell_type": "markdown",
      "metadata": {
        "id": "USQl0jPJMQXp",
        "colab_type": "text"
      },
      "source": [
        "State null hypothesis\n",
        "H0 : Proportion of Bluecars taken on Sunday are similar\n",
        "\n",
        "State alternate hypothesis\n",
        "H1 : Proportion of Blucars taken on Sunday are significantly different to the Utilib cars taken on the same day"
      ]
    },
    {
      "cell_type": "code",
      "metadata": {
        "id": "62T54I-GjhjN",
        "colab_type": "code",
        "colab": {
          "base_uri": "https://localhost:8080/",
          "height": 85
        },
        "outputId": "3dee45ee-7bf6-4550-c4ff-fad7dd6a10c4"
      },
      "source": [
        "X = np.array(autolib_df_out[autolib_df_out.dayofweek == '6'].bluecars_taken_sum) #Bluecars Taken\n",
        "Y = np.array(autolib_df_out[autolib_df_out.dayofweek == '6'].utilib_taken_sum) #Utilib cars Taken\n",
        "\n",
        "#executing the independent t-test to run tests on single variable\n",
        "t_stat, p_value = stats.ttest_ind(X,Y)\n",
        "\n",
        "# Setting our significance level at 5%\n",
        "if p_value < 0.05:  \n",
        "    print(f'As the p_value **({p_value}) < 0.05**,\\n We reject the Null Hypothesis.\\n Hence **Bluecars taken on Sunday differ significantly from Utilib Cars taken**')\n",
        "    print('xxx'*20)\n",
        "else:\n",
        "    print(f'As the p_value **({p_value}) > 0.05**,\\n We fail to reject Null Hypothesis.\\n Hence **Bluecars taken on Sunday do not differ significantly from Utilib Cars taken**')\n",
        "    print('xxx'*20)"
      ],
      "execution_count": 144,
      "outputs": [
        {
          "output_type": "stream",
          "text": [
            "As the p_value **(0.0) < 0.05**,\n",
            " We reject the Null Hypothesis.\n",
            " Hence **Bluecars taken on Sunday differ significantly from Utilib Cars taken**\n",
            "xxxxxxxxxxxxxxxxxxxxxxxxxxxxxxxxxxxxxxxxxxxxxxxxxxxxxxxxxxxx\n"
          ],
          "name": "stdout"
        }
      ]
    },
    {
      "cell_type": "markdown",
      "metadata": {
        "id": "0kNHf3lSkotF",
        "colab_type": "text"
      },
      "source": [
        "e.) Do the Bluecars taken at Postal Code 92260 differ significantly from the Utilib cars taken from the same Postal Code \n"
      ]
    },
    {
      "cell_type": "markdown",
      "metadata": {
        "id": "kFC0hWJiMmAE",
        "colab_type": "text"
      },
      "source": [
        "State null hypothesis\n",
        "H0 : Proportion of Bluecars taken at Postal Code 92260 are similar to the Utilib cars taken at the same post\n",
        "\n",
        "State alternate hypothesis\n",
        "H1 : Proportion of Bluecars taken at Postal Code 92260 are significantly different to the Utilib cars taken from the same post"
      ]
    },
    {
      "cell_type": "code",
      "metadata": {
        "id": "PCxCND6CkkIJ",
        "colab_type": "code",
        "colab": {
          "base_uri": "https://localhost:8080/",
          "height": 85
        },
        "outputId": "e99eb1fd-e7d9-416f-dd06-a41552fe58c4"
      },
      "source": [
        "X = np.array(autolib_df_out[autolib_df_out.postal_code == '92260'].bluecars_taken_sum) #Bluecars Taken\n",
        "Y = np.array(autolib_df_out[autolib_df_out.postal_code == '92260'].utilib_taken_sum) #Utilib cars Taken\n",
        "\n",
        "#executing the independent t-test to run tests on single variable\n",
        "t_stat, p_value = stats.ttest_ind(X,Y)\n",
        "\n",
        "# Setting our significance level at 5%\n",
        "if p_value < 0.05:  \n",
        "    print(f'As the p_value **({p_value}) < 0.05**,\\n We reject the Null Hypothesis.\\n Hence **Bluecars taken at Postal Code 92260 differ significantly from Utilib Cars taken from the same post**')\n",
        "    print('xxx'*20)\n",
        "else:\n",
        "    print(f'As the p_value **({p_value}) > 0.05**,\\n We fail to reject Null Hypothesis.\\n Hence **Bluecars taken at Postal Code 92260 do not differ significantly from Utilib Cars taken from the same post**')\n",
        "    print('xxx'*20)"
      ],
      "execution_count": 145,
      "outputs": [
        {
          "output_type": "stream",
          "text": [
            "As the p_value **(6.101742390118775e-112) < 0.05**,\n",
            " We reject the Null Hypothesis.\n",
            " Hence **Bluecars taken at Postal Code 92260 differ significantly from Utilib Cars taken**\n",
            "xxxxxxxxxxxxxxxxxxxxxxxxxxxxxxxxxxxxxxxxxxxxxxxxxxxxxxxxxxxx\n"
          ],
          "name": "stdout"
        }
      ]
    },
    {
      "cell_type": "markdown",
      "metadata": {
        "id": "HgkRItgpN_sI",
        "colab_type": "text"
      },
      "source": [
        "f.) - Null Hypothesis (Ho): The bluecars taken and utilib cars taken are not correlated at all ;\n",
        "- Test statistics: Pearson correlation;\n",
        "- P-value: The probability of finding values as similar to the observed Pearson correlation or higher;"
      ]
    },
    {
      "cell_type": "code",
      "metadata": {
        "id": "QTmYFBp8hFWA",
        "colab_type": "code",
        "colab": {
          "base_uri": "https://localhost:8080/",
          "height": 34
        },
        "outputId": "5a7841d3-6d16-4df3-c4e6-f6291cda9ba6"
      },
      "source": [
        "# To start off we will find the correlation coefficient for the numerical variables:\n",
        "\n",
        "print(autolib_df_out['bluecars_taken_sum'].corr(autolib_df_out['utilib_taken_sum']))\n",
        "\n",
        "# with a correlation coefficient of 0.62, we can conclude that \n",
        "# the relationship between the two variables is very strong"
      ],
      "execution_count": 80,
      "outputs": [
        {
          "output_type": "stream",
          "text": [
            "0.6232621304570943\n"
          ],
          "name": "stdout"
        }
      ]
    },
    {
      "cell_type": "code",
      "metadata": {
        "id": "Rkx7WdCrONud",
        "colab_type": "code",
        "colab": {
          "base_uri": "https://localhost:8080/",
          "height": 514
        },
        "outputId": "861010b5-a528-4d3c-c8c8-c0bb6eb601fa"
      },
      "source": [
        "plt.figure(figsize=(10,8))\n",
        "plt.scatter(x=autolib_df_out['bluecars_taken_sum'], y=autolib_df_out['utilib_taken_sum']);\n",
        "plt.xlabel('Sum of Bluecars taken')\n",
        "plt.ylabel('Sum of Utilib cars taken')\n",
        "\n",
        "# Compute observed correlation: obs_corr_1975\n",
        "car_corr = autolib_df_out[['bluecars_taken_sum', 'utilib_taken_sum']].corr().iloc[0, 1]\n",
        "print(\"Pearson correlation =\", car_corr)"
      ],
      "execution_count": 148,
      "outputs": [
        {
          "output_type": "stream",
          "text": [
            "Pearson correlation = 0.623262130457085\n"
          ],
          "name": "stdout"
        },
        {
          "output_type": "display_data",
          "data": {
            "image/png": "[encoded data removed]",
            "text/plain": [
              "<Figure size 720x576 with 1 Axes>"
            ]
          },
          "metadata": {
            "tags": [],
            "needs_background": "light"
          }
        }
      ]
    },
    {
      "cell_type": "markdown",
      "metadata": {
        "id": "VjZ3vEpYYml1",
        "colab_type": "text"
      },
      "source": [
        "The scatterplot suggests a definite relationship between Bluecars and Utilib cars, with larger\n",
        "values of Utilib Cars tending to be associated with larger values of blue cars.\n",
        "There appears to be a somewhat positive correlation between the two variables.\n",
        "We also note that there appears to be a linear relationship between the two variables."
      ]
    }
  ]
}